{
 "cells": [
  {
   "cell_type": "markdown",
   "metadata": {},
   "source": [
    "# Data Project - Data Cleaning\n"
   ]
  },
  {
   "cell_type": "markdown",
   "metadata": {},
   "source": [
    "## Library Import"
   ]
  },
  {
   "cell_type": "code",
   "execution_count": 75,
   "metadata": {},
   "outputs": [],
   "source": [
    "from IPython.core.interactiveshell import InteractiveShell\n",
    "InteractiveShell.ast_node_interactivity = \"all\""
   ]
  },
  {
   "cell_type": "code",
   "execution_count": 76,
   "metadata": {},
   "outputs": [],
   "source": [
    "import numpy as np\n",
    "import pandas as pd\n",
    "PREVIOUS_MAX_ROWS = pd.options.display.max_rows\n",
    "pd.options.display.max_rows = 20\n",
    "np.random.seed(12345)\n",
    "import matplotlib.pyplot as plt\n",
    "plt.rc('figure', figsize=(10, 6))\n",
    "np.set_printoptions(precision=4, suppress=True)\n",
    "\n",
    "import sklearn.linear_model as skl_lm\n",
    "from sklearn.preprocessing import StandardScaler\n",
    "from sklearn.model_selection import train_test_split\n",
    "from sklearn.metrics import mean_squared_error\n",
    "import statsmodels.api as sm\n",
    "import matplotlib.pyplot as plt\n",
    "\n",
    "from xgboost import XGBRegressor\n",
    "from sklearn.model_selection import train_test_split\n",
    "from sklearn.model_selection import RandomizedSearchCV\n",
    "from scipy.stats import uniform as sp_randFloat\n",
    "from scipy.stats import randint as sp_randInt\n",
    "from sklearn.model_selection import RandomizedSearchCV\n",
    "\n",
    "\n"
   ]
  },
  {
   "cell_type": "markdown",
   "metadata": {},
   "source": [
    "## Data Engineering"
   ]
  },
  {
   "cell_type": "markdown",
   "metadata": {},
   "source": [
    "### Data Import - SCI Data\n"
   ]
  },
  {
   "cell_type": "code",
   "execution_count": 77,
   "metadata": {},
   "outputs": [
    {
     "data": {
      "text/plain": [
       "'read SCI data'"
      ]
     },
     "execution_count": 77,
     "metadata": {},
     "output_type": "execute_result"
    },
    {
     "data": {
      "text/plain": [
       "'Merge Social connectedness pairs with dataset of distances. Pairs of the same codes are set to 0'"
      ]
     },
     "execution_count": 77,
     "metadata": {},
     "output_type": "execute_result"
    },
    {
     "data": {
      "text/plain": [
       "'this drops counties that are outside of the landlocked domestic states where distance data is not available for.\\nIn particular, this includes American Samoa, Northern Mariana Islands, Guam, MP, Virgin Islands'"
      ]
     },
     "execution_count": 77,
     "metadata": {},
     "output_type": "execute_result"
    }
   ],
   "source": [
    "'''read SCI data'''\n",
    "cc = pd.read_csv('county_county.tsv', sep='\\t')\n",
    "\n",
    "'''Merge Social connectedness pairs with dataset of distances. Pairs of the same codes are set to 0'''\n",
    "distance = pd.read_csv('countydistancemiles.csv') #https://www.nber.org/research/data/county-distance-database\n",
    "sci_dis = pd.merge(cc, distance, left_on=  ['user_loc', 'fr_loc'],\n",
    "                   right_on= ['county1', 'county2'], \n",
    "                   how = 'left')\n",
    "sci_dis.loc[ sci_dis['user_loc'] == sci_dis['fr_loc'], 'mi_to_county'] = 0\n",
    "\n",
    "'''this drops counties that are outside of the landlocked domestic states where distance data is not available for.\n",
    "In particular, this includes American Samoa, Northern Mariana Islands, Guam, MP, Virgin Islands'''\n",
    "\n",
    "sci_dis.drop(sci_dis[sci_dis['fr_loc'].isin([2158, 46102, 60010,60020, 66010, 69100, 69110, 78010, 78020, 78030])].index, inplace = True)\n",
    "sci_dis.drop(sci_dis[sci_dis['user_loc'].isin([2158, 46102, 60010,60020, 66010, 69100, 69110, 78010, 78020, 78030])].index, inplace = True)\n",
    "sci_dis.drop('county1', axis=1, inplace=True)\n",
    "sci_dis.drop('county2', axis=1, inplace=True)\n",
    "\n"
   ]
  },
  {
   "cell_type": "code",
   "execution_count": 78,
   "metadata": {},
   "outputs": [
    {
     "data": {
      "text/plain": [
       "'Sort pairings into buckets based on distance between counties: <50 miles, between 50-100 miles, 100-200 miles, and 200+ miles'"
      ]
     },
     "execution_count": 78,
     "metadata": {},
     "output_type": "execute_result"
    },
    {
     "data": {
      "text/plain": [
       "'Use pivot table to aggregate number of friendships in each distance bucket per county'"
      ]
     },
     "execution_count": 78,
     "metadata": {},
     "output_type": "execute_result"
    },
    {
     "data": {
      "text/plain": [
       "'Calculate percentages of friendships in each bucket for a given county '"
      ]
     },
     "execution_count": 78,
     "metadata": {},
     "output_type": "execute_result"
    }
   ],
   "source": [
    "'''Sort pairings into buckets based on distance between counties: <50 miles, between 50-100 miles, 100-200 miles, and 200+ miles'''\n",
    "cut_labels_4 = ['<50', '50-100', '100-200', '200+']\n",
    "cut_bins = [-1, 50, 100, 200,1000000]\n",
    "sci_dis['cut_ex1'] = pd.cut(sci_dis['mi_to_county'], bins=cut_bins, labels=cut_labels_4)\n",
    "\n",
    "'''Use pivot table to aggregate number of friendships in each distance bucket per county'''\n",
    "sci_dis_pivot = pd.pivot_table(sci_dis, values='scaled_sci', \n",
    "                                index='user_loc', \n",
    "                                columns='cut_ex1', \n",
    "                                aggfunc=sum).reset_index()\n",
    "\n",
    "'''Calculate percentages of friendships in each bucket for a given county '''\n",
    "sci_dis_pivot['total'] = sci_dis_pivot['<50'] + sci_dis_pivot['50-100'] + sci_dis_pivot['100-200'] + sci_dis_pivot['200+']\n",
    "sci_dis_pivot['%<50'] = sci_dis_pivot['<50'] / sci_dis_pivot['total']\n",
    "sci_dis_pivot['%50-100'] = sci_dis_pivot['50-100'] / sci_dis_pivot['total']\n",
    "sci_dis_pivot['%100-200'] = sci_dis_pivot['100-200'] / sci_dis_pivot['total']\n",
    "sci_dis_pivot['%200+'] = sci_dis_pivot['200+'] / sci_dis_pivot['total']"
   ]
  },
  {
   "cell_type": "markdown",
   "metadata": {},
   "source": [
    "### Dependent Variable - election data\n"
   ]
  },
  {
   "cell_type": "code",
   "execution_count": 79,
   "metadata": {},
   "outputs": [
    {
     "data": {
      "text/plain": [
       "'\\ndata source for election data:\\nhttps://raw.githubusercontent.com/tonmcg/US_County_Level_Election_Results_08-20/f9b5f335ad1c66a7eba681539db49eec0c22787b/2020_US_County_Level_Presidential_Results.csv\", \"election.csv\")\\n'"
      ]
     },
     "execution_count": 79,
     "metadata": {},
     "output_type": "execute_result"
    },
    {
     "data": {
      "text/plain": [
       "('election.csv', <http.client.HTTPMessage at 0x7fb51ee087f0>)"
      ]
     },
     "execution_count": 79,
     "metadata": {},
     "output_type": "execute_result"
    }
   ],
   "source": [
    "'''\n",
    "data source for election data:\n",
    "https://raw.githubusercontent.com/tonmcg/US_County_Level_Election_Results_08-20/f9b5f335ad1c66a7eba681539db49eec0c22787b/2020_US_County_Level_Presidential_Results.csv\", \"election.csv\")\n",
    "'''\n",
    "from urllib.request import urlretrieve\n",
    "urlretrieve(\"https://raw.githubusercontent.com/tonmcg/US_County_Level_Election_Results_08-20/f9b5f335ad1c66a7eba681539db49eec0c22787b/2020_US_County_Level_Presidential_Results.csv\", \"election.csv\")\n",
    "election = pd.read_csv('election.csv')\n"
   ]
  },
  {
   "cell_type": "code",
   "execution_count": 80,
   "metadata": {},
   "outputs": [
    {
     "data": {
      "text/plain": [
       "'data source for CVAP data. This is used as the denominator for calculating voter participation\\nhttps://www.census.gov/programs-surveys/decennial-census/about/voting-rights/cvap.html'"
      ]
     },
     "execution_count": 80,
     "metadata": {},
     "output_type": "execute_result"
    },
    {
     "data": {
      "text/plain": [
       "'Merged with election data to create master table.'"
      ]
     },
     "execution_count": 80,
     "metadata": {},
     "output_type": "execute_result"
    },
    {
     "data": {
      "text/plain": [
       "'Merged with cvap data to add to master table.'"
      ]
     },
     "execution_count": 80,
     "metadata": {},
     "output_type": "execute_result"
    },
    {
     "data": {
      "text/plain": [
       "'Dropped counties where election data is not available. These turned out to be a bunch in Alaska and Puerto Rico'"
      ]
     },
     "execution_count": 80,
     "metadata": {},
     "output_type": "execute_result"
    },
    {
     "data": {
      "text/plain": [
       "'participation defined as total votes out of estimated voter population'"
      ]
     },
     "execution_count": 80,
     "metadata": {},
     "output_type": "execute_result"
    }
   ],
   "source": [
    "'''data source for CVAP data. This is used as the denominator for calculating voter participation\n",
    "https://www.census.gov/programs-surveys/decennial-census/about/voting-rights/cvap.html'''\n",
    "\n",
    "cvap = pd.read_csv('County_CVAP.csv', encoding = \"ISO-8859-1\", usecols=[0, 1, 2, 4, 10])\n",
    "cvap['fips'] = cvap['geoid'].str[-5:].astype(int)\n",
    "cvap = cvap[cvap.lntitle == 'Total']\n",
    "cvap = cvap[['fips', 'cvap_est', 'tot_est']]\n",
    "\n",
    "'''Merged with election data to create master table.'''\n",
    "master = pd.merge(sci_dis_pivot, election, left_on=  ['user_loc'], right_on= ['county_fips'], how = 'left')\n",
    "\n",
    "\n",
    "'''Merged with cvap data to add to master table.'''\n",
    "master = pd.merge(master, cvap, left_on=  ['user_loc'], right_on= ['fips'], how = 'left')\n",
    "\n",
    "'''Dropped counties where election data is not available. These turned out to be a bunch in Alaska and Puerto Rico'''\n",
    "master.dropna(inplace = True)\n",
    "\n",
    "'''participation defined as total votes out of estimated voter population'''\n",
    "master['participation'] = master['total_votes'] / master['cvap_est']"
   ]
  },
  {
   "cell_type": "code",
   "execution_count": 81,
   "metadata": {},
   "outputs": [
    {
     "data": {
      "text/plain": [
       "'I wanted to see how the outcome variable was distributed. Looks to be roughly bell shaped'"
      ]
     },
     "execution_count": 81,
     "metadata": {},
     "output_type": "execute_result"
    },
    {
     "data": {
      "text/plain": [
       "(array([   1.,   60.,  566., 1483.,  869.,  124.,    4.,    2.,    0.,\n",
       "           2.]),\n",
       " array([0.1942, 0.3212, 0.4481, 0.5751, 0.702 , 0.829 , 0.956 , 1.0829,\n",
       "        1.2099, 1.3368, 1.4638]),\n",
       " <BarContainer object of 10 artists>)"
      ]
     },
     "execution_count": 81,
     "metadata": {},
     "output_type": "execute_result"
    },
    {
     "data": {
      "image/png": "[encoded data removed]",
      "text/plain": [
       "<Figure size 720x432 with 1 Axes>"
      ]
     },
     "metadata": {
      "needs_background": "light"
     },
     "output_type": "display_data"
    }
   ],
   "source": [
    "\n",
    "'''I wanted to see how the outcome variable was distributed. Looks to be roughly bell shaped'''\n",
    "plt.hist(master['participation'])"
   ]
  },
  {
   "cell_type": "markdown",
   "metadata": {},
   "source": [
    "### Demographic Data "
   ]
  },
  {
   "cell_type": "code",
   "execution_count": 82,
   "metadata": {},
   "outputs": [
    {
     "data": {
      "text/plain": [
       "'this imports and organizes Race and Gender data'"
      ]
     },
     "execution_count": 82,
     "metadata": {},
     "output_type": "execute_result"
    },
    {
     "data": {
      "text/plain": [
       "'Merge demog with master to add race/gender to master table'"
      ]
     },
     "execution_count": 82,
     "metadata": {},
     "output_type": "execute_result"
    }
   ],
   "source": [
    "'''this imports and organizes Race and Gender data'''\n",
    "demog = pd.read_csv('demographic.csv', encoding = \"ISO-8859-1\", usecols = [i for i in range(1, 22)])\n",
    "demog = demog[demog.YEAR == 12]\n",
    "demog = demog[demog.AGEGRP == 0]\n",
    "\n",
    "demog['STATE'] = demog['STATE']*1000\n",
    "demog['FIPS'] = demog['STATE'] + demog['COUNTY']\n",
    "demog = demog.drop(demog.columns[1], axis = 1)\n",
    "demog = demog.drop(demog.columns[0], axis = 1)\n",
    "\n",
    "demog['%TOT_M'] = demog['TOT_MALE'] / demog['TOT_POP']\n",
    "demog['%TOT_F'] = demog['TOT_FEMALE'] / demog['TOT_POP']\n",
    "demog['%WA_M'] = demog['WA_MALE'] / demog['TOT_POP']\n",
    "demog['%WA_F'] = demog['WA_FEMALE'] / demog['TOT_POP']\n",
    "demog['%WA'] = (demog['WA_FEMALE'] + demog['WA_MALE']) / demog['TOT_POP']\n",
    "demog['%BA_M'] = demog['BA_MALE'] / demog['TOT_POP']\n",
    "demog['%BA_F'] = demog['BA_FEMALE'] / demog['TOT_POP']\n",
    "demog['%BA'] = (demog['BA_FEMALE'] + demog['BA_MALE']) / demog['TOT_POP']\n",
    "demog['%IA_M'] = demog['IA_MALE'] / demog['TOT_POP']\n",
    "demog['%IA_F'] = demog['IA_FEMALE'] / demog['TOT_POP']\n",
    "demog['%IA'] = (demog['IA_FEMALE'] + demog['IA_MALE']) / demog['TOT_POP']\n",
    "demog['%AA_M'] = demog['AA_MALE'] / demog['TOT_POP']\n",
    "demog['%AA_F'] = demog['AA_FEMALE'] / demog['TOT_POP']\n",
    "demog['%AA'] = (demog['AA_FEMALE'] + demog['AA_MALE']) / demog['TOT_POP']\n",
    "demog['%NA_M'] = demog['NA_MALE'] / demog['TOT_POP']\n",
    "demog['%NA_F'] = demog['NA_FEMALE'] / demog['TOT_POP']\n",
    "demog['%NA'] = (demog['NA_FEMALE'] + demog['NA_MALE']) / demog['TOT_POP']\n",
    "demog['%TOM_M'] = demog['TOM_MALE'] / demog['TOT_POP']\n",
    "demog['%TOM_F'] = demog['TOM_FEMALE'] / demog['TOT_POP']\n",
    "demog['%TOM'] = (demog['TOM_FEMALE'] + demog['TOM_MALE']) / demog['TOT_POP']\n",
    "\n",
    "cols = ['TOT_POP', 'STNAME', 'CTYNAME','YEAR', 'AGEGRP', 'TOT_MALE', 'TOT_FEMALE', 'WA_MALE', 'WA_FEMALE', 'BA_MALE', 'BA_FEMALE', 'IA_MALE', 'IA_FEMALE', 'AA_MALE', 'AA_FEMALE', 'NA_MALE', 'NA_FEMALE', 'TOM_MALE', 'TOM_FEMALE']\n",
    "demog.drop(cols, axis = 1, inplace=True)\n",
    "\n",
    "'''Merge demog with master to add race/gender to master table'''\n",
    "master = pd.merge(master, demog, left_on=  ['user_loc'], right_on= ['FIPS'], how = 'left')\n"
   ]
  },
  {
   "cell_type": "code",
   "execution_count": 83,
   "metadata": {},
   "outputs": [
    {
     "data": {
      "text/plain": [
       "'This imports and organizes education data'"
      ]
     },
     "execution_count": 83,
     "metadata": {},
     "output_type": "execute_result"
    },
    {
     "data": {
      "text/plain": [
       "'Merge edu with master to add edu to master table'"
      ]
     },
     "execution_count": 83,
     "metadata": {},
     "output_type": "execute_result"
    }
   ],
   "source": [
    "'''This imports and organizes education data'''\n",
    "edu = pd.read_csv('education.csv', usecols = [0, 7, 8, 9, 10])\n",
    "edu['%<high'] = edu['%<high']/100\n",
    "edu['%high'] = edu['%high']/100\n",
    "edu['%somecollege'] = edu['%somecollege']/100\n",
    "edu['%bachelorplus'] = edu['%bachelorplus']/100\n",
    "\n",
    "\n",
    "'''Merge edu with master to add edu to master table'''\n",
    "master = pd.merge(master, edu, left_on=  ['user_loc'], right_on= ['FIPS Code'], how = 'left')\n"
   ]
  },
  {
   "cell_type": "code",
   "execution_count": 84,
   "metadata": {},
   "outputs": [
    {
     "data": {
      "text/plain": [
       "'this imports and organizes poverty rate data'"
      ]
     },
     "execution_count": 84,
     "metadata": {},
     "output_type": "execute_result"
    },
    {
     "data": {
      "text/plain": [
       "'Merge pov with master to add poverty rates to master table'"
      ]
     },
     "execution_count": 84,
     "metadata": {},
     "output_type": "execute_result"
    }
   ],
   "source": [
    "'''this imports and organizes poverty rate data'''\n",
    "pov = pd.read_csv('Poverty.csv')\n",
    "pov['per_pov2019'] = pov['per_pov2019']/100\n",
    "\n",
    "\n",
    "'''Merge pov with master to add poverty rates to master table'''\n",
    "master = pd.merge(master, pov, left_on=  ['user_loc'], right_on= ['FIPStxt'], how = 'left')"
   ]
  },
  {
   "cell_type": "code",
   "execution_count": 85,
   "metadata": {},
   "outputs": [
    {
     "data": {
      "text/plain": [
       "'Merge unemp with master to add unemployment rates/med income to master table'"
      ]
     },
     "execution_count": 85,
     "metadata": {},
     "output_type": "execute_result"
    }
   ],
   "source": [
    "'''Merge unemp with master to add unemployment rates/med income to master table'''\n",
    "\n",
    "unemp = pd.read_csv('unemployment.csv').dropna()\n",
    "unemp['unemployment2020'] = unemp['unemployment2020']/100\n",
    "\n",
    "master = pd.merge(master, unemp, left_on=  ['user_loc'], right_on= ['FIPS_Code'], how = 'left')"
   ]
  },
  {
   "cell_type": "markdown",
   "metadata": {},
   "source": [
    "### Test / Train Split"
   ]
  },
  {
   "cell_type": "code",
   "execution_count": 86,
   "metadata": {},
   "outputs": [
    {
     "data": {
      "text/plain": [
       "'this splits the data into training and testing data'"
      ]
     },
     "execution_count": 86,
     "metadata": {},
     "output_type": "execute_result"
    }
   ],
   "source": [
    "'''this splits the data into training and testing data'''\n",
    "y = master['participation'] \n",
    "x_train, x_test, y_train, y_test = train_test_split(master, y, test_size=0.1, random_state=52)\n"
   ]
  },
  {
   "cell_type": "markdown",
   "metadata": {},
   "source": [
    "# Models"
   ]
  },
  {
   "cell_type": "markdown",
   "metadata": {},
   "source": [
    "### OLS "
   ]
  },
  {
   "cell_type": "code",
   "execution_count": 87,
   "metadata": {},
   "outputs": [
    {
     "data": {
      "text/plain": [
       "'a quick visual check to see if there is a linear relationship between explanatory and outcome variables '"
      ]
     },
     "execution_count": 87,
     "metadata": {},
     "output_type": "execute_result"
    },
    {
     "name": "stderr",
     "output_type": "stream",
     "text": [
      "/Users/emilyding/opt/anaconda3/lib/python3.9/site-packages/statsmodels/tsa/tsatools.py:142: FutureWarning: In a future version of pandas all arguments of concat except for the argument 'objs' will be keyword-only\n",
      "  x = pd.concat(x[::order], 1)\n"
     ]
    },
    {
     "data": {
      "text/plain": [
       "<matplotlib.collections.PathCollection at 0x7fb51b569250>"
      ]
     },
     "execution_count": 87,
     "metadata": {},
     "output_type": "execute_result"
    },
    {
     "data": {
      "text/plain": [
       "<matplotlib.collections.PathCollection at 0x7fb5232c8af0>"
      ]
     },
     "execution_count": 87,
     "metadata": {},
     "output_type": "execute_result"
    },
    {
     "data": {
      "text/plain": [
       "<matplotlib.collections.PathCollection at 0x7fb5232c89d0>"
      ]
     },
     "execution_count": 87,
     "metadata": {},
     "output_type": "execute_result"
    },
    {
     "data": {
      "image/png": "[encoded data removed]",
      "text/plain": [
       "<Figure size 720x432 with 1 Axes>"
      ]
     },
     "metadata": {
      "needs_background": "light"
     },
     "output_type": "display_data"
    }
   ],
   "source": [
    "'''a quick visual check to see if there is a linear relationship between explanatory and outcome variables '''\n",
    "\n",
    "# drop one bc of collinearity\n",
    "x_train_sci = x_train[['%<50', '%50-100', '%200+']]\n",
    "x_test_sci = x_test[['%<50', '%50-100', '%200+']]\n",
    "\n",
    "#add a constant to introduce intercept\n",
    "exog = sm.add_constant(x_train_sci)\n",
    "exog_test = sm.add_constant (x_test_sci)\n",
    "\n",
    "plt.scatter(y_train, exog['%<50'])\n",
    "plt.scatter(y_train, exog['%50-100'])\n",
    "plt.scatter(y_train, exog['%200+'])"
   ]
  },
  {
   "cell_type": "code",
   "execution_count": 88,
   "metadata": {},
   "outputs": [
    {
     "data": {
      "text/plain": [
       "'a first model to see if SCI has any predictive power towards vote participation'"
      ]
     },
     "execution_count": 88,
     "metadata": {},
     "output_type": "execute_result"
    },
    {
     "name": "stdout",
     "output_type": "stream",
     "text": [
      "                            OLS Regression Results                            \n",
      "==============================================================================\n",
      "Dep. Variable:          participation   R-squared:                       0.046\n",
      "Model:                            OLS   Adj. R-squared:                  0.045\n",
      "Method:                 Least Squares   F-statistic:                     45.39\n",
      "Date:                Wed, 01 Jun 2022   Prob (F-statistic):           1.23e-28\n",
      "Time:                        00:05:00   Log-Likelihood:                 2470.3\n",
      "No. Observations:                2799   AIC:                            -4933.\n",
      "Df Residuals:                    2795   BIC:                            -4909.\n",
      "Df Model:                           3                                         \n",
      "Covariance Type:            nonrobust                                         \n",
      "==============================================================================\n",
      "                 coef    std err          t      P>|t|      [0.025      0.975]\n",
      "------------------------------------------------------------------------------\n",
      "const          0.8388      0.067     12.443      0.000       0.707       0.971\n",
      "%<50          -0.2125      0.067     -3.152      0.002      -0.345      -0.080\n",
      "%50-100       -0.2806      0.115     -2.441      0.015      -0.506      -0.055\n",
      "%200+         -0.1016      0.075     -1.362      0.173      -0.248       0.045\n",
      "==============================================================================\n",
      "Omnibus:                      289.736   Durbin-Watson:                   1.991\n",
      "Prob(Omnibus):                  0.000   Jarque-Bera (JB):             1340.163\n",
      "Skew:                           0.397   Prob(JB):                    9.71e-292\n",
      "Kurtosis:                       6.295   Cond. No.                         105.\n",
      "==============================================================================\n",
      "\n",
      "Notes:\n",
      "[1] Standard Errors assume that the covariance matrix of the errors is correctly specified.\n",
      "0.09493309653983951\n"
     ]
    }
   ],
   "source": [
    "'''a first model to see if SCI has any predictive power towards vote participation'''\n",
    "\n",
    "\n",
    "#run OLS on SCI predictors\n",
    "est = sm.OLS(y_train, exog).fit()\n",
    "print(est.summary())\n",
    "print(np.sqrt(mean_squared_error(y_test, est.predict(exog_test))))\n",
    "\n",
    "#add RMSE to result table\n",
    "rmse_results = {\"OLS w/ 3 SCI buckets\": np.sqrt(mean_squared_error(y_test, est.predict(exog_test)))}\n"
   ]
  },
  {
   "cell_type": "code",
   "execution_count": 89,
   "metadata": {},
   "outputs": [
    {
     "data": {
      "text/plain": [
       "'Since one of the buckets is not significant, rerun OLS on sci predictors to see if they have predictive power towards vote participation'"
      ]
     },
     "execution_count": 89,
     "metadata": {},
     "output_type": "execute_result"
    },
    {
     "name": "stdout",
     "output_type": "stream",
     "text": [
      "                            OLS Regression Results                            \n",
      "==============================================================================\n",
      "Dep. Variable:          participation   R-squared:                       0.046\n",
      "Model:                            OLS   Adj. R-squared:                  0.045\n",
      "Method:                 Least Squares   F-statistic:                     67.14\n",
      "Date:                Wed, 01 Jun 2022   Prob (F-statistic):           3.32e-29\n",
      "Time:                        00:05:01   Log-Likelihood:                 2469.3\n",
      "No. Observations:                2799   AIC:                            -4933.\n",
      "Df Residuals:                    2796   BIC:                            -4915.\n",
      "Df Model:                           2                                         \n",
      "Covariance Type:            nonrobust                                         \n",
      "==============================================================================\n",
      "                 coef    std err          t      P>|t|      [0.025      0.975]\n",
      "------------------------------------------------------------------------------\n",
      "const          0.7480      0.010     77.413      0.000       0.729       0.767\n",
      "%<50          -0.1218      0.011    -11.370      0.000      -0.143      -0.101\n",
      "%50-100       -0.1362      0.044     -3.072      0.002      -0.223      -0.049\n",
      "==============================================================================\n",
      "Omnibus:                      289.817   Durbin-Watson:                   1.991\n",
      "Prob(Omnibus):                  0.000   Jarque-Bera (JB):             1330.059\n",
      "Skew:                           0.400   Prob(JB):                    1.52e-289\n",
      "Kurtosis:                       6.281   Cond. No.                         28.6\n",
      "==============================================================================\n",
      "\n",
      "Notes:\n",
      "[1] Standard Errors assume that the covariance matrix of the errors is correctly specified.\n",
      "0.09490857101592567\n"
     ]
    },
    {
     "name": "stderr",
     "output_type": "stream",
     "text": [
      "/Users/emilyding/opt/anaconda3/lib/python3.9/site-packages/statsmodels/tsa/tsatools.py:142: FutureWarning: In a future version of pandas all arguments of concat except for the argument 'objs' will be keyword-only\n",
      "  x = pd.concat(x[::order], 1)\n"
     ]
    }
   ],
   "source": [
    "'''Since one of the buckets is not significant, rerun OLS on sci predictors to see if they have predictive power towards vote participation'''\n",
    "x_train_sci2 = x_train[['%<50', '%50-100']]\n",
    "x_test_sci2 = x_test[['%<50', '%50-100']]\n",
    "\n",
    "#add constant\n",
    "exog2 = sm.add_constant(x_train_sci2)\n",
    "exog2_test = sm.add_constant (x_test_sci2)\n",
    "\n",
    "#run OLS on formula predictors\n",
    "est2 = sm.OLS(y_train, exog2).fit()\n",
    "print(est2.summary())\n",
    "print(np.sqrt(mean_squared_error(y_test, est2.predict(exog2_test))))\n",
    "\n",
    "rmse_results[\"OLS with 2 distance buckets\"] = np.sqrt(mean_squared_error(y_test, est2.predict(exog2_test)))\n"
   ]
  },
  {
   "cell_type": "code",
   "execution_count": 90,
   "metadata": {},
   "outputs": [
    {
     "data": {
      "text/plain": [
       "'Took a look at VIF to see how bad of a multi-colinearity problem we have on the SCI buckets. They look okay.\\n'"
      ]
     },
     "execution_count": 90,
     "metadata": {},
     "output_type": "execute_result"
    },
    {
     "name": "stdout",
     "output_type": "stream",
     "text": [
      "   feature       VIF\n",
      "0     %<50  2.648042\n",
      "1  %50-100  3.551469\n",
      "2    %200+  1.934218\n"
     ]
    }
   ],
   "source": [
    "'''Took a look at VIF to see how bad of a multi-colinearity problem we have on the SCI buckets. They look okay.\n",
    "'''\n",
    "\n",
    "# referenced https://stackoverflow.com/questions/42658379/variance-inflation-factor-in-python for VIF functions\n",
    "from statsmodels.stats.outliers_influence import variance_inflation_factor\n",
    "  \n",
    "# VIF dataframe\n",
    "vif_data = pd.DataFrame()\n",
    "vif_data[\"feature\"] = x_train_sci.columns\n",
    "  \n",
    "# calculating VIF for each feature\n",
    "vif_data[\"VIF\"] = [variance_inflation_factor(x_train_sci.values, i) for i in range(len(x_train_sci.columns))]\n",
    "print(vif_data)"
   ]
  },
  {
   "cell_type": "markdown",
   "metadata": {},
   "source": [
    "### Including Demographic Factors"
   ]
  },
  {
   "cell_type": "code",
   "execution_count": 91,
   "metadata": {},
   "outputs": [
    {
     "data": {
      "text/plain": [
       "'This model uses all the demographic factors to run OLS to gauge a benchmark R squared value'"
      ]
     },
     "execution_count": 91,
     "metadata": {},
     "output_type": "execute_result"
    },
    {
     "data": {
      "text/plain": [
       "\"remove %200+ '%TOT_M' '%<high'  '%TOM to prevent collinearity for categories that add up to 1\""
      ]
     },
     "execution_count": 91,
     "metadata": {},
     "output_type": "execute_result"
    },
    {
     "name": "stdout",
     "output_type": "stream",
     "text": [
      "                            OLS Regression Results                            \n",
      "==============================================================================\n",
      "Dep. Variable:          participation   R-squared:                       0.482\n",
      "Model:                            OLS   Adj. R-squared:                  0.480\n",
      "Method:                 Least Squares   F-statistic:                     199.6\n",
      "Date:                Wed, 01 Jun 2022   Prob (F-statistic):               0.00\n",
      "Time:                        00:05:01   Log-Likelihood:                 3325.2\n",
      "No. Observations:                2799   AIC:                            -6622.\n",
      "Df Residuals:                    2785   BIC:                            -6539.\n",
      "Df Model:                          13                                         \n",
      "Covariance Type:            nonrobust                                         \n",
      "==================================================================================\n",
      "                     coef    std err          t      P>|t|      [0.025      0.975]\n",
      "----------------------------------------------------------------------------------\n",
      "const             -1.4239      0.161     -8.869      0.000      -1.739      -1.109\n",
      "%<50               0.1105      0.043      2.601      0.009       0.027       0.194\n",
      "%100-200          -0.2942      0.087     -3.392      0.001      -0.464      -0.124\n",
      "%200+              0.0787      0.041      1.911      0.056      -0.002       0.159\n",
      "%WA                1.1062      0.150      7.372      0.000       0.812       1.400\n",
      "%BA                1.0754      0.150      7.160      0.000       0.781       1.370\n",
      "%IA                1.0446      0.161      6.497      0.000       0.729       1.360\n",
      "%AA                0.6322      0.182      3.472      0.001       0.275       0.989\n",
      "%NA                2.7008      0.566      4.775      0.000       1.592       3.810\n",
      "%high              0.2775      0.038      7.215      0.000       0.202       0.353\n",
      "%somecollege       0.7228      0.035     20.768      0.000       0.655       0.791\n",
      "%bachelorplus      0.5887      0.032     18.142      0.000       0.525       0.652\n",
      "%TOT_F             0.7068      0.065     10.833      0.000       0.579       0.835\n",
      "med_income2019   2.59e-06   1.58e-07     16.406      0.000    2.28e-06     2.9e-06\n",
      "==============================================================================\n",
      "Omnibus:                      902.933   Durbin-Watson:                   1.996\n",
      "Prob(Omnibus):                  0.000   Jarque-Bera (JB):            11876.779\n",
      "Skew:                           1.151   Prob(JB):                         0.00\n",
      "Kurtosis:                      12.826   Cond. No.                     2.57e+07\n",
      "==============================================================================\n",
      "\n",
      "Notes:\n",
      "[1] Standard Errors assume that the covariance matrix of the errors is correctly specified.\n",
      "[2] The condition number is large, 2.57e+07. This might indicate that there are\n",
      "strong multicollinearity or other numerical problems.\n",
      "0.06854140161179204\n"
     ]
    },
    {
     "name": "stderr",
     "output_type": "stream",
     "text": [
      "/Users/emilyding/opt/anaconda3/lib/python3.9/site-packages/statsmodels/tsa/tsatools.py:142: FutureWarning: In a future version of pandas all arguments of concat except for the argument 'objs' will be keyword-only\n",
      "  x = pd.concat(x[::order], 1)\n"
     ]
    }
   ],
   "source": [
    "'''This model uses all the demographic factors to run OLS to gauge a benchmark R squared value'''\n",
    "'''remove %200+ '%TOT_M' '%<high'  '%TOM to prevent collinearity for categories that add up to 1'''\n",
    "\n",
    "x_train_demog = x_train[['%<50', '%100-200' ,'%200+', '%WA','%BA','%IA','%AA','%NA', '%high','%somecollege','%bachelorplus',\n",
    "                       '%TOT_F', 'med_income2019' ]]\n",
    "x_test_demog= x_test[[ '%<50', '%100-200', '%200+', '%WA','%BA','%IA','%AA','%NA', '%high','%somecollege','%bachelorplus',\n",
    "                       '%TOT_F', 'med_income2019' ]]\n",
    "\n",
    "#add constant           \n",
    "exogd = sm.add_constant(x_train_demog)\n",
    "exogd_test = sm.add_constant (x_test_demog)\n",
    "           \n",
    "\n",
    "#run OLS on all predictors\n",
    "est_demog = sm.OLS(y_train, exogd).fit()\n",
    "print(est_demog.summary())\n",
    "print(np.sqrt(mean_squared_error(y_test, est_demog.predict(exogd_test))))\n",
    "\n",
    "rmse_results[\"OLS with all demog predictors\"] = np.sqrt(mean_squared_error(y_test, est_demog.predict(exogd_test)))\n"
   ]
  },
  {
   "cell_type": "code",
   "execution_count": 92,
   "metadata": {},
   "outputs": [
    {
     "data": {
      "text/plain": [
       "'examine VIF - shows how multicollinearity. need to do feature selection'"
      ]
     },
     "execution_count": 92,
     "metadata": {},
     "output_type": "execute_result"
    },
    {
     "name": "stdout",
     "output_type": "stream",
     "text": [
      "           feature          VIF\n",
      "0             %<50   395.021021\n",
      "1         %100-200    27.323795\n",
      "2            %200+    48.069550\n",
      "3              %WA  1059.641659\n",
      "4              %BA    43.038194\n",
      "5              %IA     8.953626\n",
      "6              %AA     4.397983\n",
      "7              %NA     1.789539\n",
      "8            %high    88.308340\n",
      "9     %somecollege    56.699214\n",
      "10   %bachelorplus    29.651223\n",
      "11          %TOT_F   526.591778\n",
      "12  med_income2019    41.562554\n"
     ]
    }
   ],
   "source": [
    "'''examine VIF - shows how multicollinearity. need to do feature selection'''\n",
    "# referenced https://stackoverflow.com/questions/42658379/variance-inflation-factor-in-python for VIF functions\n",
    "from statsmodels.stats.outliers_influence import variance_inflation_factor\n",
    "  \n",
    "# VIF dataframe\n",
    "vif_data = pd.DataFrame()\n",
    "vif_data[\"feature\"] = x_train_demog.columns\n",
    "  \n",
    "# calculating VIF for each feature\n",
    "vif_data[\"VIF\"] = [variance_inflation_factor(x_train_demog.values, i) for i in range(len(x_train_demog.columns))]\n",
    "print(vif_data)"
   ]
  },
  {
   "cell_type": "markdown",
   "metadata": {},
   "source": [
    "### Selecting With Forward Step"
   ]
  },
  {
   "cell_type": "code",
   "execution_count": 93,
   "metadata": {},
   "outputs": [],
   "source": [
    "#declare variables again\n",
    "x_train_demog = x_train[['%<50', '%100-200', '%200+', '%WA','%BA','%IA','%AA','%NA', '%high','%somecollege','%bachelorplus',\n",
    "                       '%TOT_F', 'med_income2019' ]]\n",
    "\n",
    "                       \n",
    "x_test_demog= x_test[[ '%<50', '%100-200', '%200+', '%WA','%BA','%IA','%AA','%NA', '%high','%somecollege','%bachelorplus',\n",
    "                       '%TOT_F', 'med_income2019' ]]\n",
    "\n"
   ]
  },
  {
   "cell_type": "code",
   "execution_count": 94,
   "metadata": {},
   "outputs": [
    {
     "data": {
      "text/plain": [
       "'do forward selection to select the best predictors'"
      ]
     },
     "execution_count": 94,
     "metadata": {},
     "output_type": "execute_result"
    },
    {
     "name": "stdout",
     "output_type": "stream",
     "text": [
      "Processed  14 models on 1 predictors.\n",
      "Processed  13 models on 2 predictors.\n",
      "Processed  12 models on 3 predictors.\n",
      "Processed  11 models on 4 predictors.\n",
      "Processed  10 models on 5 predictors.\n",
      "Processed  9 models on 6 predictors.\n",
      "Processed  8 models on 7 predictors.\n",
      "Processed  7 models on 8 predictors.\n",
      "Processed  6 models on 9 predictors.\n",
      "Processed  5 models on 10 predictors.\n",
      "Processed  4 models on 11 predictors.\n",
      "Processed  3 models on 12 predictors.\n",
      "Processed  2 models on 13 predictors.\n",
      "Processed  1 models on 14 predictors.\n"
     ]
    },
    {
     "data": {
      "text/html": [
       "<div>\n",
       "<style scoped>\n",
       "    .dataframe tbody tr th:only-of-type {\n",
       "        vertical-align: middle;\n",
       "    }\n",
       "\n",
       "    .dataframe tbody tr th {\n",
       "        vertical-align: top;\n",
       "    }\n",
       "\n",
       "    .dataframe thead th {\n",
       "        text-align: right;\n",
       "    }\n",
       "</style>\n",
       "<table border=\"1\" class=\"dataframe\">\n",
       "  <thead>\n",
       "    <tr style=\"text-align: right;\">\n",
       "      <th></th>\n",
       "      <th>RSS</th>\n",
       "      <th>model</th>\n",
       "    </tr>\n",
       "  </thead>\n",
       "  <tbody>\n",
       "    <tr>\n",
       "      <th>1</th>\n",
       "      <td>28.356864</td>\n",
       "      <td>&lt;statsmodels.regression.linear_model.Regressio...</td>\n",
       "    </tr>\n",
       "    <tr>\n",
       "      <th>2</th>\n",
       "      <td>20.512976</td>\n",
       "      <td>&lt;statsmodels.regression.linear_model.Regressio...</td>\n",
       "    </tr>\n",
       "    <tr>\n",
       "      <th>3</th>\n",
       "      <td>18.949701</td>\n",
       "      <td>&lt;statsmodels.regression.linear_model.Regressio...</td>\n",
       "    </tr>\n",
       "    <tr>\n",
       "      <th>4</th>\n",
       "      <td>18.358882</td>\n",
       "      <td>&lt;statsmodels.regression.linear_model.Regressio...</td>\n",
       "    </tr>\n",
       "    <tr>\n",
       "      <th>5</th>\n",
       "      <td>17.234542</td>\n",
       "      <td>&lt;statsmodels.regression.linear_model.Regressio...</td>\n",
       "    </tr>\n",
       "    <tr>\n",
       "      <th>6</th>\n",
       "      <td>16.247949</td>\n",
       "      <td>&lt;statsmodels.regression.linear_model.Regressio...</td>\n",
       "    </tr>\n",
       "    <tr>\n",
       "      <th>7</th>\n",
       "      <td>16.050836</td>\n",
       "      <td>&lt;statsmodels.regression.linear_model.Regressio...</td>\n",
       "    </tr>\n",
       "    <tr>\n",
       "      <th>8</th>\n",
       "      <td>15.855686</td>\n",
       "      <td>&lt;statsmodels.regression.linear_model.Regressio...</td>\n",
       "    </tr>\n",
       "    <tr>\n",
       "      <th>9</th>\n",
       "      <td>15.672917</td>\n",
       "      <td>&lt;statsmodels.regression.linear_model.Regressio...</td>\n",
       "    </tr>\n",
       "    <tr>\n",
       "      <th>10</th>\n",
       "      <td>15.585092</td>\n",
       "      <td>&lt;statsmodels.regression.linear_model.Regressio...</td>\n",
       "    </tr>\n",
       "    <tr>\n",
       "      <th>11</th>\n",
       "      <td>15.524053</td>\n",
       "      <td>&lt;statsmodels.regression.linear_model.Regressio...</td>\n",
       "    </tr>\n",
       "    <tr>\n",
       "      <th>12</th>\n",
       "      <td>15.371473</td>\n",
       "      <td>&lt;statsmodels.regression.linear_model.Regressio...</td>\n",
       "    </tr>\n",
       "    <tr>\n",
       "      <th>13</th>\n",
       "      <td>15.248211</td>\n",
       "      <td>&lt;statsmodels.regression.linear_model.Regressio...</td>\n",
       "    </tr>\n",
       "    <tr>\n",
       "      <th>14</th>\n",
       "      <td>15.228235</td>\n",
       "      <td>&lt;statsmodels.regression.linear_model.Regressio...</td>\n",
       "    </tr>\n",
       "  </tbody>\n",
       "</table>\n",
       "</div>"
      ],
      "text/plain": [
       "          RSS                                              model\n",
       "1   28.356864  <statsmodels.regression.linear_model.Regressio...\n",
       "2   20.512976  <statsmodels.regression.linear_model.Regressio...\n",
       "3   18.949701  <statsmodels.regression.linear_model.Regressio...\n",
       "4   18.358882  <statsmodels.regression.linear_model.Regressio...\n",
       "5   17.234542  <statsmodels.regression.linear_model.Regressio...\n",
       "6   16.247949  <statsmodels.regression.linear_model.Regressio...\n",
       "7   16.050836  <statsmodels.regression.linear_model.Regressio...\n",
       "8   15.855686  <statsmodels.regression.linear_model.Regressio...\n",
       "9   15.672917  <statsmodels.regression.linear_model.Regressio...\n",
       "10  15.585092  <statsmodels.regression.linear_model.Regressio...\n",
       "11  15.524053  <statsmodels.regression.linear_model.Regressio...\n",
       "12  15.371473  <statsmodels.regression.linear_model.Regressio...\n",
       "13  15.248211  <statsmodels.regression.linear_model.Regressio...\n",
       "14  15.228235  <statsmodels.regression.linear_model.Regressio..."
      ]
     },
     "execution_count": 94,
     "metadata": {},
     "output_type": "execute_result"
    },
    {
     "data": {
      "text/plain": [
       "'examine the rsquared values of each model to see when an additional predictor does not benefit model fit '"
      ]
     },
     "execution_count": 94,
     "metadata": {},
     "output_type": "execute_result"
    },
    {
     "name": "stdout",
     "output_type": "stream",
     "text": [
      "model  1 :  0.977069737965204\n",
      "model  2 :  0.9834125552206474\n",
      "model  3 :  0.9846766690395757\n",
      "model  4 :  0.9851544242899757\n",
      "model  5 :  0.9860636006884081\n",
      "model  6 :  0.9868613914764149\n",
      "model  7 :  0.9870207830725288\n",
      "model  8 :  0.9871785876662434\n",
      "model  9 :  0.4672302123870026\n",
      "model  10 :  0.4702156427586611\n",
      "model  11 :  0.472290539878259\n",
      "model  12 :  0.47747719311444425\n",
      "model  13 :  0.4816672301360133\n",
      "model  14 :  0.48234627442903755\n"
     ]
    }
   ],
   "source": [
    "\n",
    "'''do forward selection to select the best predictors'''\n",
    "# code is from class notes\n",
    "def processSubset(feature_set):\n",
    "    # Fit model on feature_set and calculate RSS\n",
    "    model = sm.OLS(y_train, exogd[list(feature_set)])\n",
    "    regr = model.fit()\n",
    "    RSS = ((regr.predict(exogd[list(feature_set)]) - y_train) ** 2).sum()\n",
    "    return {\"model\":regr, \"RSS\":RSS}\n",
    "\n",
    "def forward(predictors):\n",
    "    # Pull out predictors we still need to process\n",
    "    remaining_predictors = [p for p in exogd.columns if p not in predictors]\n",
    "    results = []\n",
    "    for p in remaining_predictors:\n",
    "        results.append(processSubset(predictors+[p]))\n",
    "    # Wrap everything up in a nice dataframe\n",
    "    models = pd.DataFrame(results)\n",
    "    # Choose the model with the lowest RSS\n",
    "    best_model = models.loc[models['RSS'].argmin()]\n",
    "    print(\"Processed \", models.shape[0], \"models on\", len(predictors)+1, \"predictors.\")\n",
    "    # Return the best model\n",
    "    return best_model\n",
    "\n",
    "models2 = pd.DataFrame(columns=[\"RSS\", \"model\"])\n",
    "predictors = []\n",
    "for i in range(1,len(exogd.columns)+1):\n",
    "    models2.loc[i] = forward(predictors)\n",
    "    predictors = models2.loc[i][\"model\"].model.exog_names  \n",
    "models2\n",
    "\n",
    "'''examine the rsquared values of each model to see when an additional predictor does not benefit model fit '''\n",
    "for i in range(len(models2)): \n",
    "    print('model ', i+1, \": \", models2.iloc[i]['model'].rsquared)"
   ]
  },
  {
   "cell_type": "code",
   "execution_count": 95,
   "metadata": {},
   "outputs": [
    {
     "data": {
      "text/plain": [
       "'the model with 8 predictors performs the best - Run an OLS with these predictors'"
      ]
     },
     "execution_count": 95,
     "metadata": {},
     "output_type": "execute_result"
    },
    {
     "name": "stdout",
     "output_type": "stream",
     "text": [
      "dict_keys(['%TOT_F', 'med_income2019', '%somecollege', '%100-200', '%bachelorplus', '%AA', '%IA', '%high'])\n"
     ]
    },
    {
     "name": "stderr",
     "output_type": "stream",
     "text": [
      "/Users/emilyding/opt/anaconda3/lib/python3.9/site-packages/statsmodels/tsa/tsatools.py:142: FutureWarning: In a future version of pandas all arguments of concat except for the argument 'objs' will be keyword-only\n",
      "  x = pd.concat(x[::order], 1)\n"
     ]
    },
    {
     "data": {
      "text/html": [
       "<div>\n",
       "<style scoped>\n",
       "    .dataframe tbody tr th:only-of-type {\n",
       "        vertical-align: middle;\n",
       "    }\n",
       "\n",
       "    .dataframe tbody tr th {\n",
       "        vertical-align: top;\n",
       "    }\n",
       "\n",
       "    .dataframe thead th {\n",
       "        text-align: right;\n",
       "    }\n",
       "</style>\n",
       "<table border=\"1\" class=\"dataframe\">\n",
       "  <thead>\n",
       "    <tr style=\"text-align: right;\">\n",
       "      <th></th>\n",
       "      <th>const</th>\n",
       "      <th>%TOT_F_added</th>\n",
       "      <th>med_income2019_added</th>\n",
       "      <th>%somecollege_added</th>\n",
       "      <th>%100-200_added</th>\n",
       "      <th>%bachelorplus_added</th>\n",
       "      <th>%AA_added</th>\n",
       "      <th>%IA_added</th>\n",
       "      <th>%high_added</th>\n",
       "    </tr>\n",
       "  </thead>\n",
       "  <tbody>\n",
       "    <tr>\n",
       "      <th>1281</th>\n",
       "      <td>1.0</td>\n",
       "      <td>0.504378</td>\n",
       "      <td>76728.0</td>\n",
       "      <td>0.247</td>\n",
       "      <td>0.136551</td>\n",
       "      <td>0.559</td>\n",
       "      <td>0.093767</td>\n",
       "      <td>0.003906</td>\n",
       "      <td>0.146</td>\n",
       "    </tr>\n",
       "    <tr>\n",
       "      <th>1298</th>\n",
       "      <td>1.0</td>\n",
       "      <td>0.491495</td>\n",
       "      <td>54896.0</td>\n",
       "      <td>0.342</td>\n",
       "      <td>0.059206</td>\n",
       "      <td>0.171</td>\n",
       "      <td>0.003175</td>\n",
       "      <td>0.094579</td>\n",
       "      <td>0.349</td>\n",
       "    </tr>\n",
       "    <tr>\n",
       "      <th>1323</th>\n",
       "      <td>1.0</td>\n",
       "      <td>0.494721</td>\n",
       "      <td>75519.0</td>\n",
       "      <td>0.351</td>\n",
       "      <td>0.093684</td>\n",
       "      <td>0.230</td>\n",
       "      <td>0.006820</td>\n",
       "      <td>0.005435</td>\n",
       "      <td>0.358</td>\n",
       "    </tr>\n",
       "    <tr>\n",
       "      <th>2738</th>\n",
       "      <td>1.0</td>\n",
       "      <td>0.498101</td>\n",
       "      <td>76905.0</td>\n",
       "      <td>0.297</td>\n",
       "      <td>0.121089</td>\n",
       "      <td>0.218</td>\n",
       "      <td>0.006540</td>\n",
       "      <td>0.009771</td>\n",
       "      <td>0.361</td>\n",
       "    </tr>\n",
       "    <tr>\n",
       "      <th>1354</th>\n",
       "      <td>1.0</td>\n",
       "      <td>0.487227</td>\n",
       "      <td>95323.0</td>\n",
       "      <td>0.395</td>\n",
       "      <td>0.184574</td>\n",
       "      <td>0.266</td>\n",
       "      <td>0.012639</td>\n",
       "      <td>0.005882</td>\n",
       "      <td>0.285</td>\n",
       "    </tr>\n",
       "  </tbody>\n",
       "</table>\n",
       "</div>"
      ],
      "text/plain": [
       "      const  %TOT_F_added  med_income2019_added  %somecollege_added  \\\n",
       "1281    1.0      0.504378               76728.0               0.247   \n",
       "1298    1.0      0.491495               54896.0               0.342   \n",
       "1323    1.0      0.494721               75519.0               0.351   \n",
       "2738    1.0      0.498101               76905.0               0.297   \n",
       "1354    1.0      0.487227               95323.0               0.395   \n",
       "\n",
       "      %100-200_added  %bachelorplus_added  %AA_added  %IA_added  %high_added  \n",
       "1281        0.136551                0.559   0.093767   0.003906        0.146  \n",
       "1298        0.059206                0.171   0.003175   0.094579        0.349  \n",
       "1323        0.093684                0.230   0.006820   0.005435        0.358  \n",
       "2738        0.121089                0.218   0.006540   0.009771        0.361  \n",
       "1354        0.184574                0.266   0.012639   0.005882        0.285  "
      ]
     },
     "execution_count": 95,
     "metadata": {},
     "output_type": "execute_result"
    },
    {
     "data": {
      "text/html": [
       "<table class=\"simpletable\">\n",
       "<caption>OLS Regression Results</caption>\n",
       "<tr>\n",
       "  <th>Dep. Variable:</th>      <td>participation</td>  <th>  R-squared:         </th> <td>   0.467</td>\n",
       "</tr>\n",
       "<tr>\n",
       "  <th>Model:</th>                   <td>OLS</td>       <th>  Adj. R-squared:    </th> <td>   0.466</td>\n",
       "</tr>\n",
       "<tr>\n",
       "  <th>Method:</th>             <td>Least Squares</td>  <th>  F-statistic:       </th> <td>   305.8</td>\n",
       "</tr>\n",
       "<tr>\n",
       "  <th>Date:</th>             <td>Wed, 01 Jun 2022</td> <th>  Prob (F-statistic):</th>  <td>  0.00</td> \n",
       "</tr>\n",
       "<tr>\n",
       "  <th>Time:</th>                 <td>00:05:01</td>     <th>  Log-Likelihood:    </th> <td>  3284.9</td>\n",
       "</tr>\n",
       "<tr>\n",
       "  <th>No. Observations:</th>      <td>  2799</td>      <th>  AIC:               </th> <td>  -6552.</td>\n",
       "</tr>\n",
       "<tr>\n",
       "  <th>Df Residuals:</th>          <td>  2790</td>      <th>  BIC:               </th> <td>  -6498.</td>\n",
       "</tr>\n",
       "<tr>\n",
       "  <th>Df Model:</th>              <td>     8</td>      <th>                     </th>     <td> </td>   \n",
       "</tr>\n",
       "<tr>\n",
       "  <th>Covariance Type:</th>      <td>nonrobust</td>    <th>                     </th>     <td> </td>   \n",
       "</tr>\n",
       "</table>\n",
       "<table class=\"simpletable\">\n",
       "<tr>\n",
       "            <td></td>              <th>coef</th>     <th>std err</th>      <th>t</th>      <th>P>|t|</th>  <th>[0.025</th>    <th>0.975]</th>  \n",
       "</tr>\n",
       "<tr>\n",
       "  <th>const</th>                <td>   -0.2259</td> <td>    0.040</td> <td>   -5.704</td> <td> 0.000</td> <td>   -0.304</td> <td>   -0.148</td>\n",
       "</tr>\n",
       "<tr>\n",
       "  <th>%TOT_F_added</th>         <td>    0.6764</td> <td>    0.065</td> <td>   10.367</td> <td> 0.000</td> <td>    0.548</td> <td>    0.804</td>\n",
       "</tr>\n",
       "<tr>\n",
       "  <th>med_income2019_added</th> <td> 2.788e-06</td> <td> 1.51e-07</td> <td>   18.501</td> <td> 0.000</td> <td> 2.49e-06</td> <td> 3.08e-06</td>\n",
       "</tr>\n",
       "<tr>\n",
       "  <th>%somecollege_added</th>   <td>    0.7003</td> <td>    0.033</td> <td>   21.027</td> <td> 0.000</td> <td>    0.635</td> <td>    0.766</td>\n",
       "</tr>\n",
       "<tr>\n",
       "  <th>%100-200_added</th>       <td>   -0.5090</td> <td>    0.040</td> <td>  -12.847</td> <td> 0.000</td> <td>   -0.587</td> <td>   -0.431</td>\n",
       "</tr>\n",
       "<tr>\n",
       "  <th>%bachelorplus_added</th>  <td>    0.5662</td> <td>    0.032</td> <td>   17.589</td> <td> 0.000</td> <td>    0.503</td> <td>    0.629</td>\n",
       "</tr>\n",
       "<tr>\n",
       "  <th>%AA_added</th>            <td>   -0.7098</td> <td>    0.067</td> <td>  -10.640</td> <td> 0.000</td> <td>   -0.841</td> <td>   -0.579</td>\n",
       "</tr>\n",
       "<tr>\n",
       "  <th>%IA_added</th>            <td>   -0.1238</td> <td>    0.022</td> <td>   -5.667</td> <td> 0.000</td> <td>   -0.167</td> <td>   -0.081</td>\n",
       "</tr>\n",
       "<tr>\n",
       "  <th>%high_added</th>          <td>    0.2976</td> <td>    0.037</td> <td>    7.995</td> <td> 0.000</td> <td>    0.225</td> <td>    0.371</td>\n",
       "</tr>\n",
       "</table>\n",
       "<table class=\"simpletable\">\n",
       "<tr>\n",
       "  <th>Omnibus:</th>       <td>867.991</td> <th>  Durbin-Watson:     </th> <td>   1.990</td> \n",
       "</tr>\n",
       "<tr>\n",
       "  <th>Prob(Omnibus):</th> <td> 0.000</td>  <th>  Jarque-Bera (JB):  </th> <td>11266.180</td>\n",
       "</tr>\n",
       "<tr>\n",
       "  <th>Skew:</th>          <td> 1.096</td>  <th>  Prob(JB):          </th> <td>    0.00</td> \n",
       "</tr>\n",
       "<tr>\n",
       "  <th>Kurtosis:</th>      <td>12.581</td>  <th>  Cond. No.          </th> <td>2.99e+06</td> \n",
       "</tr>\n",
       "</table><br/><br/>Notes:<br/>[1] Standard Errors assume that the covariance matrix of the errors is correctly specified.<br/>[2] The condition number is large, 2.99e+06. This might indicate that there are<br/>strong multicollinearity or other numerical problems."
      ],
      "text/plain": [
       "<class 'statsmodels.iolib.summary.Summary'>\n",
       "\"\"\"\n",
       "                            OLS Regression Results                            \n",
       "==============================================================================\n",
       "Dep. Variable:          participation   R-squared:                       0.467\n",
       "Model:                            OLS   Adj. R-squared:                  0.466\n",
       "Method:                 Least Squares   F-statistic:                     305.8\n",
       "Date:                Wed, 01 Jun 2022   Prob (F-statistic):               0.00\n",
       "Time:                        00:05:01   Log-Likelihood:                 3284.9\n",
       "No. Observations:                2799   AIC:                            -6552.\n",
       "Df Residuals:                    2790   BIC:                            -6498.\n",
       "Df Model:                           8                                         \n",
       "Covariance Type:            nonrobust                                         \n",
       "========================================================================================\n",
       "                           coef    std err          t      P>|t|      [0.025      0.975]\n",
       "----------------------------------------------------------------------------------------\n",
       "const                   -0.2259      0.040     -5.704      0.000      -0.304      -0.148\n",
       "%TOT_F_added             0.6764      0.065     10.367      0.000       0.548       0.804\n",
       "med_income2019_added  2.788e-06   1.51e-07     18.501      0.000    2.49e-06    3.08e-06\n",
       "%somecollege_added       0.7003      0.033     21.027      0.000       0.635       0.766\n",
       "%100-200_added          -0.5090      0.040    -12.847      0.000      -0.587      -0.431\n",
       "%bachelorplus_added      0.5662      0.032     17.589      0.000       0.503       0.629\n",
       "%AA_added               -0.7098      0.067    -10.640      0.000      -0.841      -0.579\n",
       "%IA_added               -0.1238      0.022     -5.667      0.000      -0.167      -0.081\n",
       "%high_added              0.2976      0.037      7.995      0.000       0.225       0.371\n",
       "==============================================================================\n",
       "Omnibus:                      867.991   Durbin-Watson:                   1.990\n",
       "Prob(Omnibus):                  0.000   Jarque-Bera (JB):            11266.180\n",
       "Skew:                           1.096   Prob(JB):                         0.00\n",
       "Kurtosis:                      12.581   Cond. No.                     2.99e+06\n",
       "==============================================================================\n",
       "\n",
       "Notes:\n",
       "[1] Standard Errors assume that the covariance matrix of the errors is correctly specified.\n",
       "[2] The condition number is large, 2.99e+06. This might indicate that there are\n",
       "strong multicollinearity or other numerical problems.\n",
       "\"\"\""
      ]
     },
     "execution_count": 95,
     "metadata": {},
     "output_type": "execute_result"
    },
    {
     "name": "stdout",
     "output_type": "stream",
     "text": [
      "0.06996915351642546\n"
     ]
    }
   ],
   "source": [
    "'''the model with 8 predictors performs the best - Run an OLS with these predictors'''\n",
    "A = dict(models2.loc[8, \"model\"].params).keys()\n",
    "print(A)\n",
    "\n",
    "model_train_X = pd.DataFrame()\n",
    "model_test_X = pd.DataFrame()\n",
    "\n",
    "for k in A:\n",
    "    model_train_X[str(k)+\"_added\"] = x_train_demog[k]\n",
    "    model_test_X[str(k)+\"_added\"] = x_test_demog[k]\n",
    "    \n",
    "model_train_X = sm.add_constant(model_train_X)\n",
    "model_test_X = sm.add_constant (model_test_X)\n",
    "model_train_X.head()\n",
    "model_stepwise = sm.OLS(y_train, model_train_X).fit()\n",
    "model_stepwise.summary()\n",
    "print(np.sqrt(mean_squared_error(y_test, model_stepwise.predict(model_test_X))))\n",
    "\n",
    "rmse_results[\"Forward Stepwise w/ 8 predictors\"] = np.sqrt(mean_squared_error(y_test, model_stepwise.predict(model_test_X)))\n",
    "\n"
   ]
  },
  {
   "cell_type": "code",
   "execution_count": 96,
   "metadata": {},
   "outputs": [
    {
     "data": {
      "text/plain": [
       "'examine the VIF of '"
      ]
     },
     "execution_count": 96,
     "metadata": {},
     "output_type": "execute_result"
    },
    {
     "name": "stdout",
     "output_type": "stream",
     "text": [
      "          feature         VIF\n",
      "0          %TOT_F  191.593663\n",
      "1  med_income2019   36.764860\n",
      "2    %somecollege   45.156398\n",
      "3        %100-200    5.840018\n",
      "4   %bachelorplus   28.075755\n",
      "5             %AA    2.086409\n",
      "6             %IA    1.173976\n",
      "7           %high   61.689590\n"
     ]
    }
   ],
   "source": [
    "'''examine the VIF of '''\n",
    "pred = ['%TOT_F', 'med_income2019', '%somecollege', '%100-200', '%bachelorplus', '%AA', '%IA', '%high']\n",
    "\n",
    "training_X_new = x_train_demog[pred].copy()\n",
    "\n",
    "vif_data_new = pd.DataFrame()\n",
    "vif_data_new[\"feature\"] = ['%TOT_F', 'med_income2019', '%somecollege', '%100-200', '%bachelorplus', '%AA', '%IA', '%high']\n",
    "vif_data_new[\"VIF\"] = [variance_inflation_factor(training_X_new.values, i) for i in range(len(training_X_new.columns))]\n",
    "print(vif_data_new)\n"
   ]
  },
  {
   "cell_type": "code",
   "execution_count": 97,
   "metadata": {},
   "outputs": [
    {
     "data": {
      "text/plain": [
       "'Redo the same process but without the SCI predictors to see how much of an impact the SCI predictors have'"
      ]
     },
     "execution_count": 97,
     "metadata": {},
     "output_type": "execute_result"
    },
    {
     "name": "stdout",
     "output_type": "stream",
     "text": [
      "Processed  10 models on 1 predictors.\n",
      "Processed  9 models on 2 predictors.\n",
      "Processed  8 models on 3 predictors.\n",
      "Processed  7 models on 4 predictors.\n",
      "Processed  6 models on 5 predictors.\n",
      "Processed  5 models on 6 predictors.\n",
      "Processed  4 models on 7 predictors.\n",
      "Processed  3 models on 8 predictors.\n",
      "Processed  2 models on 9 predictors.\n",
      "Processed  1 models on 10 predictors.\n"
     ]
    },
    {
     "data": {
      "text/html": [
       "<div>\n",
       "<style scoped>\n",
       "    .dataframe tbody tr th:only-of-type {\n",
       "        vertical-align: middle;\n",
       "    }\n",
       "\n",
       "    .dataframe tbody tr th {\n",
       "        vertical-align: top;\n",
       "    }\n",
       "\n",
       "    .dataframe thead th {\n",
       "        text-align: right;\n",
       "    }\n",
       "</style>\n",
       "<table border=\"1\" class=\"dataframe\">\n",
       "  <thead>\n",
       "    <tr style=\"text-align: right;\">\n",
       "      <th></th>\n",
       "      <th>RSS</th>\n",
       "      <th>model</th>\n",
       "    </tr>\n",
       "  </thead>\n",
       "  <tbody>\n",
       "    <tr>\n",
       "      <th>1</th>\n",
       "      <td>28.356864</td>\n",
       "      <td>&lt;statsmodels.regression.linear_model.Regressio...</td>\n",
       "    </tr>\n",
       "    <tr>\n",
       "      <th>2</th>\n",
       "      <td>20.512976</td>\n",
       "      <td>&lt;statsmodels.regression.linear_model.Regressio...</td>\n",
       "    </tr>\n",
       "    <tr>\n",
       "      <th>3</th>\n",
       "      <td>18.949701</td>\n",
       "      <td>&lt;statsmodels.regression.linear_model.Regressio...</td>\n",
       "    </tr>\n",
       "    <tr>\n",
       "      <th>4</th>\n",
       "      <td>18.394520</td>\n",
       "      <td>&lt;statsmodels.regression.linear_model.Regressio...</td>\n",
       "    </tr>\n",
       "    <tr>\n",
       "      <th>5</th>\n",
       "      <td>17.522625</td>\n",
       "      <td>&lt;statsmodels.regression.linear_model.Regressio...</td>\n",
       "    </tr>\n",
       "    <tr>\n",
       "      <th>6</th>\n",
       "      <td>17.128130</td>\n",
       "      <td>&lt;statsmodels.regression.linear_model.Regressio...</td>\n",
       "    </tr>\n",
       "    <tr>\n",
       "      <th>7</th>\n",
       "      <td>16.810995</td>\n",
       "      <td>&lt;statsmodels.regression.linear_model.Regressio...</td>\n",
       "    </tr>\n",
       "    <tr>\n",
       "      <th>8</th>\n",
       "      <td>16.754223</td>\n",
       "      <td>&lt;statsmodels.regression.linear_model.Regressio...</td>\n",
       "    </tr>\n",
       "    <tr>\n",
       "      <th>9</th>\n",
       "      <td>16.696658</td>\n",
       "      <td>&lt;statsmodels.regression.linear_model.Regressio...</td>\n",
       "    </tr>\n",
       "    <tr>\n",
       "      <th>10</th>\n",
       "      <td>16.678450</td>\n",
       "      <td>&lt;statsmodels.regression.linear_model.Regressio...</td>\n",
       "    </tr>\n",
       "  </tbody>\n",
       "</table>\n",
       "</div>"
      ],
      "text/plain": [
       "          RSS                                              model\n",
       "1   28.356864  <statsmodels.regression.linear_model.Regressio...\n",
       "2   20.512976  <statsmodels.regression.linear_model.Regressio...\n",
       "3   18.949701  <statsmodels.regression.linear_model.Regressio...\n",
       "4   18.394520  <statsmodels.regression.linear_model.Regressio...\n",
       "5   17.522625  <statsmodels.regression.linear_model.Regressio...\n",
       "6   17.128130  <statsmodels.regression.linear_model.Regressio...\n",
       "7   16.810995  <statsmodels.regression.linear_model.Regressio...\n",
       "8   16.754223  <statsmodels.regression.linear_model.Regressio...\n",
       "9   16.696658  <statsmodels.regression.linear_model.Regressio...\n",
       "10  16.678450  <statsmodels.regression.linear_model.Regressio..."
      ]
     },
     "execution_count": 97,
     "metadata": {},
     "output_type": "execute_result"
    },
    {
     "name": "stdout",
     "output_type": "stream",
     "text": [
      "model  1 :  0.977069737965204\n",
      "model  2 :  0.9834125552206474\n",
      "model  3 :  0.9846766690395757\n",
      "model  4 :  0.985125606252603\n",
      "model  5 :  0.985830647795745\n",
      "model  6 :  0.9861496494565766\n",
      "model  7 :  0.9864060947476415\n",
      "model  8 :  0.9864520021551191\n",
      "model  9 :  0.9864985510559972\n",
      "model  10 :  0.9865132744549507\n",
      "dict_keys(['%TOT_F', 'med_income2019', '%somecollege', '%bachelorplus', '%AA', '%IA', '%high'])\n"
     ]
    },
    {
     "name": "stderr",
     "output_type": "stream",
     "text": [
      "/Users/emilyding/opt/anaconda3/lib/python3.9/site-packages/statsmodels/tsa/tsatools.py:142: FutureWarning: In a future version of pandas all arguments of concat except for the argument 'objs' will be keyword-only\n",
      "  x = pd.concat(x[::order], 1)\n"
     ]
    },
    {
     "data": {
      "text/html": [
       "<div>\n",
       "<style scoped>\n",
       "    .dataframe tbody tr th:only-of-type {\n",
       "        vertical-align: middle;\n",
       "    }\n",
       "\n",
       "    .dataframe tbody tr th {\n",
       "        vertical-align: top;\n",
       "    }\n",
       "\n",
       "    .dataframe thead th {\n",
       "        text-align: right;\n",
       "    }\n",
       "</style>\n",
       "<table border=\"1\" class=\"dataframe\">\n",
       "  <thead>\n",
       "    <tr style=\"text-align: right;\">\n",
       "      <th></th>\n",
       "      <th>const</th>\n",
       "      <th>%TOT_F_added</th>\n",
       "      <th>med_income2019_added</th>\n",
       "      <th>%somecollege_added</th>\n",
       "      <th>%bachelorplus_added</th>\n",
       "      <th>%AA_added</th>\n",
       "      <th>%IA_added</th>\n",
       "      <th>%high_added</th>\n",
       "    </tr>\n",
       "  </thead>\n",
       "  <tbody>\n",
       "    <tr>\n",
       "      <th>1281</th>\n",
       "      <td>1.0</td>\n",
       "      <td>0.504378</td>\n",
       "      <td>76728.0</td>\n",
       "      <td>0.247</td>\n",
       "      <td>0.559</td>\n",
       "      <td>0.093767</td>\n",
       "      <td>0.003906</td>\n",
       "      <td>0.146</td>\n",
       "    </tr>\n",
       "    <tr>\n",
       "      <th>1298</th>\n",
       "      <td>1.0</td>\n",
       "      <td>0.491495</td>\n",
       "      <td>54896.0</td>\n",
       "      <td>0.342</td>\n",
       "      <td>0.171</td>\n",
       "      <td>0.003175</td>\n",
       "      <td>0.094579</td>\n",
       "      <td>0.349</td>\n",
       "    </tr>\n",
       "    <tr>\n",
       "      <th>1323</th>\n",
       "      <td>1.0</td>\n",
       "      <td>0.494721</td>\n",
       "      <td>75519.0</td>\n",
       "      <td>0.351</td>\n",
       "      <td>0.230</td>\n",
       "      <td>0.006820</td>\n",
       "      <td>0.005435</td>\n",
       "      <td>0.358</td>\n",
       "    </tr>\n",
       "    <tr>\n",
       "      <th>2738</th>\n",
       "      <td>1.0</td>\n",
       "      <td>0.498101</td>\n",
       "      <td>76905.0</td>\n",
       "      <td>0.297</td>\n",
       "      <td>0.218</td>\n",
       "      <td>0.006540</td>\n",
       "      <td>0.009771</td>\n",
       "      <td>0.361</td>\n",
       "    </tr>\n",
       "    <tr>\n",
       "      <th>1354</th>\n",
       "      <td>1.0</td>\n",
       "      <td>0.487227</td>\n",
       "      <td>95323.0</td>\n",
       "      <td>0.395</td>\n",
       "      <td>0.266</td>\n",
       "      <td>0.012639</td>\n",
       "      <td>0.005882</td>\n",
       "      <td>0.285</td>\n",
       "    </tr>\n",
       "  </tbody>\n",
       "</table>\n",
       "</div>"
      ],
      "text/plain": [
       "      const  %TOT_F_added  med_income2019_added  %somecollege_added  \\\n",
       "1281    1.0      0.504378               76728.0               0.247   \n",
       "1298    1.0      0.491495               54896.0               0.342   \n",
       "1323    1.0      0.494721               75519.0               0.351   \n",
       "2738    1.0      0.498101               76905.0               0.297   \n",
       "1354    1.0      0.487227               95323.0               0.395   \n",
       "\n",
       "      %bachelorplus_added  %AA_added  %IA_added  %high_added  \n",
       "1281                0.559   0.093767   0.003906        0.146  \n",
       "1298                0.171   0.003175   0.094579        0.349  \n",
       "1323                0.230   0.006820   0.005435        0.358  \n",
       "2738                0.218   0.006540   0.009771        0.361  \n",
       "1354                0.266   0.012639   0.005882        0.285  "
      ]
     },
     "execution_count": 97,
     "metadata": {},
     "output_type": "execute_result"
    },
    {
     "data": {
      "text/html": [
       "<table class=\"simpletable\">\n",
       "<caption>OLS Regression Results</caption>\n",
       "<tr>\n",
       "  <th>Dep. Variable:</th>      <td>participation</td>  <th>  R-squared:         </th> <td>   0.436</td>\n",
       "</tr>\n",
       "<tr>\n",
       "  <th>Model:</th>                   <td>OLS</td>       <th>  Adj. R-squared:    </th> <td>   0.434</td>\n",
       "</tr>\n",
       "<tr>\n",
       "  <th>Method:</th>             <td>Least Squares</td>  <th>  F-statistic:       </th> <td>   307.9</td>\n",
       "</tr>\n",
       "<tr>\n",
       "  <th>Date:</th>             <td>Wed, 01 Jun 2022</td> <th>  Prob (F-statistic):</th>  <td>  0.00</td> \n",
       "</tr>\n",
       "<tr>\n",
       "  <th>Time:</th>                 <td>00:05:02</td>     <th>  Log-Likelihood:    </th> <td>  3204.5</td>\n",
       "</tr>\n",
       "<tr>\n",
       "  <th>No. Observations:</th>      <td>  2799</td>      <th>  AIC:               </th> <td>  -6393.</td>\n",
       "</tr>\n",
       "<tr>\n",
       "  <th>Df Residuals:</th>          <td>  2791</td>      <th>  BIC:               </th> <td>  -6345.</td>\n",
       "</tr>\n",
       "<tr>\n",
       "  <th>Df Model:</th>              <td>     7</td>      <th>                     </th>     <td> </td>   \n",
       "</tr>\n",
       "<tr>\n",
       "  <th>Covariance Type:</th>      <td>nonrobust</td>    <th>                     </th>     <td> </td>   \n",
       "</tr>\n",
       "</table>\n",
       "<table class=\"simpletable\">\n",
       "<tr>\n",
       "            <td></td>              <th>coef</th>     <th>std err</th>      <th>t</th>      <th>P>|t|</th>  <th>[0.025</th>    <th>0.975]</th>  \n",
       "</tr>\n",
       "<tr>\n",
       "  <th>const</th>                <td>   -0.2425</td> <td>    0.041</td> <td>   -5.954</td> <td> 0.000</td> <td>   -0.322</td> <td>   -0.163</td>\n",
       "</tr>\n",
       "<tr>\n",
       "  <th>%TOT_F_added</th>         <td>    0.6904</td> <td>    0.067</td> <td>   10.285</td> <td> 0.000</td> <td>    0.559</td> <td>    0.822</td>\n",
       "</tr>\n",
       "<tr>\n",
       "  <th>med_income2019_added</th> <td> 2.561e-06</td> <td> 1.54e-07</td> <td>   16.629</td> <td> 0.000</td> <td> 2.26e-06</td> <td> 2.86e-06</td>\n",
       "</tr>\n",
       "<tr>\n",
       "  <th>%somecollege_added</th>   <td>    0.6317</td> <td>    0.034</td> <td>   18.674</td> <td> 0.000</td> <td>    0.565</td> <td>    0.698</td>\n",
       "</tr>\n",
       "<tr>\n",
       "  <th>%bachelorplus_added</th>  <td>    0.5007</td> <td>    0.033</td> <td>   15.309</td> <td> 0.000</td> <td>    0.437</td> <td>    0.565</td>\n",
       "</tr>\n",
       "<tr>\n",
       "  <th>%AA_added</th>            <td>   -0.6341</td> <td>    0.068</td> <td>   -9.274</td> <td> 0.000</td> <td>   -0.768</td> <td>   -0.500</td>\n",
       "</tr>\n",
       "<tr>\n",
       "  <th>%IA_added</th>            <td>   -0.1704</td> <td>    0.022</td> <td>   -7.685</td> <td> 0.000</td> <td>   -0.214</td> <td>   -0.127</td>\n",
       "</tr>\n",
       "<tr>\n",
       "  <th>%high_added</th>          <td>    0.3548</td> <td>    0.038</td> <td>    9.329</td> <td> 0.000</td> <td>    0.280</td> <td>    0.429</td>\n",
       "</tr>\n",
       "</table>\n",
       "<table class=\"simpletable\">\n",
       "<tr>\n",
       "  <th>Omnibus:</th>       <td>864.965</td> <th>  Durbin-Watson:     </th> <td>   1.997</td> \n",
       "</tr>\n",
       "<tr>\n",
       "  <th>Prob(Omnibus):</th> <td> 0.000</td>  <th>  Jarque-Bera (JB):  </th> <td>11487.123</td>\n",
       "</tr>\n",
       "<tr>\n",
       "  <th>Skew:</th>          <td> 1.084</td>  <th>  Prob(JB):          </th> <td>    0.00</td> \n",
       "</tr>\n",
       "<tr>\n",
       "  <th>Kurtosis:</th>      <td>12.685</td>  <th>  Cond. No.          </th> <td>2.99e+06</td> \n",
       "</tr>\n",
       "</table><br/><br/>Notes:<br/>[1] Standard Errors assume that the covariance matrix of the errors is correctly specified.<br/>[2] The condition number is large, 2.99e+06. This might indicate that there are<br/>strong multicollinearity or other numerical problems."
      ],
      "text/plain": [
       "<class 'statsmodels.iolib.summary.Summary'>\n",
       "\"\"\"\n",
       "                            OLS Regression Results                            \n",
       "==============================================================================\n",
       "Dep. Variable:          participation   R-squared:                       0.436\n",
       "Model:                            OLS   Adj. R-squared:                  0.434\n",
       "Method:                 Least Squares   F-statistic:                     307.9\n",
       "Date:                Wed, 01 Jun 2022   Prob (F-statistic):               0.00\n",
       "Time:                        00:05:02   Log-Likelihood:                 3204.5\n",
       "No. Observations:                2799   AIC:                            -6393.\n",
       "Df Residuals:                    2791   BIC:                            -6345.\n",
       "Df Model:                           7                                         \n",
       "Covariance Type:            nonrobust                                         \n",
       "========================================================================================\n",
       "                           coef    std err          t      P>|t|      [0.025      0.975]\n",
       "----------------------------------------------------------------------------------------\n",
       "const                   -0.2425      0.041     -5.954      0.000      -0.322      -0.163\n",
       "%TOT_F_added             0.6904      0.067     10.285      0.000       0.559       0.822\n",
       "med_income2019_added  2.561e-06   1.54e-07     16.629      0.000    2.26e-06    2.86e-06\n",
       "%somecollege_added       0.6317      0.034     18.674      0.000       0.565       0.698\n",
       "%bachelorplus_added      0.5007      0.033     15.309      0.000       0.437       0.565\n",
       "%AA_added               -0.6341      0.068     -9.274      0.000      -0.768      -0.500\n",
       "%IA_added               -0.1704      0.022     -7.685      0.000      -0.214      -0.127\n",
       "%high_added              0.3548      0.038      9.329      0.000       0.280       0.429\n",
       "==============================================================================\n",
       "Omnibus:                      864.965   Durbin-Watson:                   1.997\n",
       "Prob(Omnibus):                  0.000   Jarque-Bera (JB):            11487.123\n",
       "Skew:                           1.084   Prob(JB):                         0.00\n",
       "Kurtosis:                      12.685   Cond. No.                     2.99e+06\n",
       "==============================================================================\n",
       "\n",
       "Notes:\n",
       "[1] Standard Errors assume that the covariance matrix of the errors is correctly specified.\n",
       "[2] The condition number is large, 2.99e+06. This might indicate that there are\n",
       "strong multicollinearity or other numerical problems.\n",
       "\"\"\""
      ]
     },
     "execution_count": 97,
     "metadata": {},
     "output_type": "execute_result"
    },
    {
     "name": "stdout",
     "output_type": "stream",
     "text": [
      "0.07080617020376986\n"
     ]
    }
   ],
   "source": [
    "\n",
    "'''Redo the same process but without the SCI predictors to see how much of an impact the SCI predictors have'''\n",
    "x_train_demog = x_train[[ '%WA','%BA','%IA','%AA','%NA', '%high','%somecollege','%bachelorplus',\n",
    "                       '%TOT_F', 'med_income2019' ]]\n",
    "\n",
    "                       \n",
    "x_test_demog= x_test[[ '%WA','%BA','%IA','%AA','%NA', '%high','%somecollege','%bachelorplus',\n",
    "                       '%TOT_F', 'med_income2019' ]]\n",
    "\n",
    "# code is from class notes\n",
    "def processSubset(feature_set):\n",
    "    # Fit model on feature_set and calculate RSS\n",
    "    model = sm.OLS(y_train, x_train_demog[list(feature_set)])\n",
    "    regr = model.fit()\n",
    "    RSS = ((regr.predict(x_train_demog[list(feature_set)]) - y_train) ** 2).sum()\n",
    "    return {\"model\":regr, \"RSS\":RSS}\n",
    "\n",
    "def forward(predictors):\n",
    "    # Pull out predictors we still need to process\n",
    "    remaining_predictors = [p for p in x_train_demog.columns if p not in predictors]\n",
    "    results = []\n",
    "    for p in remaining_predictors:\n",
    "        results.append(processSubset(predictors+[p]))\n",
    "    # Wrap everything up in a nice dataframe\n",
    "    models = pd.DataFrame(results)\n",
    "    # Choose the model with the lowest RSS\n",
    "    best_model = models.loc[models['RSS'].argmin()]\n",
    "    print(\"Processed \", models.shape[0], \"models on\", len(predictors)+1, \"predictors.\")\n",
    "    # Return the best model\n",
    "    return best_model\n",
    "\n",
    "models2 = pd.DataFrame(columns=[\"RSS\", \"model\"])\n",
    "predictors = []\n",
    "for i in range(1,len(x_train_demog.columns)+1):\n",
    "    models2.loc[i] = forward(predictors)\n",
    "    predictors = models2.loc[i][\"model\"].model.exog_names  \n",
    "models2\n",
    "\n",
    "for i in range(len(models2)): \n",
    "    print('model ', i+1, \": \", models2.iloc[i]['model'].rsquared)\n",
    "    \n",
    "    \n",
    "A = dict(models2.loc[7, \"model\"].params).keys()\n",
    "print(A)\n",
    "\n",
    "model_train_X = pd.DataFrame()\n",
    "model_test_X = pd.DataFrame()\n",
    "\n",
    "           \n",
    "\n",
    "for k in A:\n",
    "    model_train_X[str(k)+\"_added\"] = x_train_demog[k]\n",
    "    model_test_X[str(k)+\"_added\"] = x_test_demog[k]\n",
    "    \n",
    "model_train_X = sm.add_constant(model_train_X)\n",
    "model_test_X = sm.add_constant (model_test_X)\n",
    "model_train_X.head()\n",
    "model_stepwise = sm.OLS(y_train, model_train_X).fit()\n",
    "model_stepwise.summary()\n",
    "print(np.sqrt(mean_squared_error(y_test, model_stepwise.predict(model_test_X))))\n",
    "\n",
    "rmse_results[\"Forward Stepwise w/ 7 predictors without SCI\"] = np.sqrt(mean_squared_error(y_test, model_stepwise.predict(model_test_X)))\n"
   ]
  },
  {
   "cell_type": "markdown",
   "metadata": {},
   "source": [
    "### Lasso Regression"
   ]
  },
  {
   "cell_type": "code",
   "execution_count": 98,
   "metadata": {},
   "outputs": [],
   "source": [
    "x_train_demog = x_train[['%<50', '%100-200' ,'%200+', '%WA','%BA','%IA','%AA','%NA', '%high','%somecollege','%bachelorplus',\n",
    "                       '%TOT_F', 'med_income2019' ]]\n",
    "\n",
    "                       \n",
    "x_test_demog= x_test[[ '%<50', '%100-200', '%200+', '%WA','%BA','%IA','%AA','%NA', '%high','%somecollege','%bachelorplus',\n",
    "                       '%TOT_F', 'med_income2019' ]]"
   ]
  },
  {
   "cell_type": "code",
   "execution_count": 99,
   "metadata": {},
   "outputs": [
    {
     "data": {
      "text/plain": [
       "'use lasso function to select predictors'"
      ]
     },
     "execution_count": 99,
     "metadata": {},
     "output_type": "execute_result"
    },
    {
     "name": "stdout",
     "output_type": "stream",
     "text": [
      "RMSE 0.0754318598222907\n",
      "['%WA', '%somecollege', '%bachelorplus', '%TOT_F', 'med_income2019']\n",
      "          feature        VIF\n",
      "0             %WA  29.956195\n",
      "1    %somecollege  36.696791\n",
      "2   %bachelorplus  13.637722\n",
      "3          %TOT_F  55.028176\n",
      "4  med_income2019  34.375875\n"
     ]
    },
    {
     "data": {
      "text/plain": [
       "'lasso regression does not select for SCI predictors'"
      ]
     },
     "execution_count": 99,
     "metadata": {},
     "output_type": "execute_result"
    }
   ],
   "source": [
    "'''use lasso function to select predictors'''\n",
    "def lasso(X_train, X_test, y_train, y_test):\n",
    "    #define alpha\n",
    "    scaler = StandardScaler().fit(X_train)\n",
    "    alphas = 10**np.linspace(10,-2,100)\n",
    "    # run lasso regression\n",
    "    lassocv = skl_lm.LassoCV(alphas = alphas, max_iter=10000)\n",
    "    lassocv.fit(scaler.fit_transform(X_train), y_train.values.ravel())\n",
    "    lasso = skl_lm.Lasso()\n",
    "    lasso.set_params(alpha = lassocv.alpha_)\n",
    "    lasso.fit(scaler.fit_transform(X_train), y_train.values.ravel())\n",
    "    print(\"RMSE\", np.sqrt(mean_squared_error(y_test, lasso.predict(scaler.transform(X_test)))))\n",
    "    rmse_results[\"Lasso Regression\"] = np.sqrt(mean_squared_error(y_test, model_stepwise.predict(model_test_X)))\n",
    "\n",
    "    #updating view settings to see full results\n",
    "    pd.options.display.max_rows = 4000\n",
    "    \n",
    "    #predictors\n",
    "    pred = dict(pd.Series(lasso.coef_.flatten(), index = X_train.columns))\n",
    "    \n",
    "    #find remaining predictors that have not been zeroed\n",
    "    pred_sparse = []\n",
    "    for k in pred:\n",
    "        if pred[k] > 0.00000001:\n",
    "            pred_sparse.append(k)\n",
    "    print(pred_sparse)\n",
    "\n",
    "    #new set of predictors\n",
    "    lasso_training_X_new = X_train[pred_sparse].copy()\n",
    "    lasso_testing_X_new = X_test[pred_sparse].copy()\n",
    "    \n",
    "     #display VIF for new predictors\n",
    "    vif_data_new = pd.DataFrame()\n",
    "    vif_data_new[\"feature\"] = lasso_training_X_new.columns\n",
    "    vif_data_new[\"VIF\"] = [variance_inflation_factor(lasso_training_X_new.values, i) for i in range(len(lasso_testing_X_new.columns))]\n",
    "    print(vif_data_new)\n",
    "    return(lasso_training_X_new, lasso_testing_X_new)\n",
    "\n",
    "\n",
    "(X_train_lasso, X_test_lasso) = lasso(x_train_demog, x_test_demog, y_train, y_test)\n",
    "\n",
    "'''lasso regression does not select for SCI predictors'''"
   ]
  },
  {
   "cell_type": "markdown",
   "metadata": {},
   "source": [
    "### GLM models with percent participation"
   ]
  },
  {
   "cell_type": "code",
   "execution_count": 100,
   "metadata": {},
   "outputs": [],
   "source": [
    "x_train_demog = x_train[['%<50', '%100-200' ,'%200+', '%WA','%BA','%IA','%AA','%NA', '%high','%somecollege','%bachelorplus',\n",
    "                       '%TOT_F', 'med_income2019' ]]\n",
    "\n",
    "                       \n",
    "x_test_demog= x_test[[ '%<50', '%100-200', '%200+', '%WA','%BA','%IA','%AA','%NA', '%high','%somecollege','%bachelorplus',\n",
    "                       '%TOT_F', 'med_income2019' ]]"
   ]
  },
  {
   "cell_type": "code",
   "execution_count": 101,
   "metadata": {},
   "outputs": [
    {
     "name": "stdout",
     "output_type": "stream",
     "text": [
      "                 Generalized Linear Model Regression Results                  \n",
      "==============================================================================\n",
      "Dep. Variable:          participation   No. Observations:                 2799\n",
      "Model:                            GLM   Df Residuals:                     2785\n",
      "Model Family:                Binomial   Df Model:                           13\n",
      "Link Function:                  logit   Scale:                          1.0000\n",
      "Method:                          IRLS   Log-Likelihood:                -1185.1\n",
      "Date:                Wed, 01 Jun 2022   Deviance:                       153.40\n",
      "Time:                        00:05:02   Pearson chi2:                     70.0\n",
      "No. Iterations:                     5                                         \n",
      "Covariance Type:            nonrobust                                         \n",
      "==================================================================================\n",
      "                     coef    std err          z      P>|z|      [0.025      0.975]\n",
      "----------------------------------------------------------------------------------\n",
      "const             -8.3489      4.519     -1.848      0.065     -17.206       0.508\n",
      "%<50               0.5350      1.221      0.438      0.661      -1.858       2.928\n",
      "%100-200          -1.3796      2.496     -0.553      0.580      -6.271       3.512\n",
      "%200+              0.3642      1.184      0.308      0.758      -1.957       2.685\n",
      "%WA                4.8213      4.212      1.145      0.252      -3.433      13.076\n",
      "%BA                4.7014      4.212      1.116      0.264      -3.555      12.958\n",
      "%IA                4.6133      4.509      1.023      0.306      -4.223      13.450\n",
      "%AA                2.4589      5.169      0.476      0.634      -7.672      12.589\n",
      "%NA               12.2650     15.895      0.772      0.440     -18.889      43.419\n",
      "%high              1.0742      1.090      0.986      0.324      -1.061       3.210\n",
      "%somecollege       3.0389      1.001      3.037      0.002       1.077       5.000\n",
      "%bachelorplus      2.6174      0.932      2.809      0.005       0.791       4.444\n",
      "%TOT_F             2.8973      1.816      1.596      0.111      -0.662       6.456\n",
      "med_income2019  1.266e-05   4.74e-06      2.674      0.008    3.38e-06    2.19e-05\n",
      "==================================================================================\n",
      "0.06902116966029863\n"
     ]
    },
    {
     "name": "stderr",
     "output_type": "stream",
     "text": [
      "/Users/emilyding/opt/anaconda3/lib/python3.9/site-packages/statsmodels/tsa/tsatools.py:142: FutureWarning: In a future version of pandas all arguments of concat except for the argument 'objs' will be keyword-only\n",
      "  x = pd.concat(x[::order], 1)\n"
     ]
    }
   ],
   "source": [
    "exogd = sm.add_constant(x_train_demog)\n",
    "exogd_test = sm.add_constant (x_test_demog)\n",
    "           \n",
    "\n",
    "glm_binom = sm.GLM(y_train, exogd, family=sm.families.Binomial())\n",
    "res = glm_binom.fit()\n",
    "print(res.summary())\n",
    "\n",
    "print(np.sqrt(mean_squared_error(y_test, res.predict(exogd_test))))\n",
    "rmse_results[\"GLM\"] = np.sqrt(mean_squared_error(y_test, res.predict(exogd_test)))\n",
    "\n"
   ]
  },
  {
   "cell_type": "code",
   "execution_count": 122,
   "metadata": {},
   "outputs": [
    {
     "name": "stdout",
     "output_type": "stream",
     "text": [
      "                 Generalized Linear Model Regression Results                  \n",
      "==============================================================================\n",
      "Dep. Variable:          participation   No. Observations:                 2799\n",
      "Model:                            GLM   Df Residuals:                     2788\n",
      "Model Family:                Binomial   Df Model:                           10\n",
      "Link Function:                  logit   Scale:                          1.0000\n",
      "Method:                          IRLS   Log-Likelihood:                -1187.5\n",
      "Date:                Wed, 01 Jun 2022   Deviance:                       157.93\n",
      "Time:                        00:29:48   Pearson chi2:                     74.2\n",
      "No. Iterations:                     4                                         \n",
      "Covariance Type:            nonrobust                                         \n",
      "==================================================================================\n",
      "                     coef    std err          z      P>|z|      [0.025      0.975]\n",
      "----------------------------------------------------------------------------------\n",
      "const             -8.3983      4.280     -1.962      0.050     -16.787      -0.010\n",
      "%WA                5.2737      4.135      1.275      0.202      -2.831      13.379\n",
      "%BA                5.1573      4.135      1.247      0.212      -2.946      13.261\n",
      "%IA                4.8689      4.432      1.099      0.272      -3.818      13.556\n",
      "%AA                3.0593      5.138      0.595      0.552      -7.010      13.129\n",
      "%NA               13.9557     15.771      0.885      0.376     -16.954      44.866\n",
      "%high              1.4497      1.056      1.373      0.170      -0.620       3.520\n",
      "%somecollege       2.7320      0.984      2.777      0.005       0.804       4.660\n",
      "%bachelorplus      2.2819      0.914      2.496      0.013       0.490       4.073\n",
      "%TOT_F             2.9577      1.811      1.633      0.102      -0.591       6.507\n",
      "med_income2019  1.131e-05   4.56e-06      2.480      0.013    2.37e-06    2.03e-05\n",
      "==================================================================================\n",
      "0.07056290805588866\n"
     ]
    },
    {
     "name": "stderr",
     "output_type": "stream",
     "text": [
      "/Users/emilyding/opt/anaconda3/lib/python3.9/site-packages/statsmodels/tsa/tsatools.py:142: FutureWarning: In a future version of pandas all arguments of concat except for the argument 'objs' will be keyword-only\n",
      "  x = pd.concat(x[::order], 1)\n"
     ]
    }
   ],
   "source": [
    "x_train_demog = x_train[['%WA','%BA','%IA','%AA','%NA', '%high','%somecollege','%bachelorplus',\n",
    "                       '%TOT_F', 'med_income2019' ]]\n",
    "\n",
    "                       \n",
    "x_test_demog= x_test[[ '%WA','%BA','%IA','%AA','%NA', '%high','%somecollege','%bachelorplus',\n",
    "                       '%TOT_F', 'med_income2019' ]]\n",
    "\n",
    "exogd = sm.add_constant(x_train_demog)\n",
    "exogd_test = sm.add_constant (x_test_demog)\n",
    "           \n",
    "\n",
    "glm_binom = sm.GLM(y_train, exogd, family=sm.families.Binomial())\n",
    "res = glm_binom.fit()\n",
    "print(res.summary())\n",
    "\n",
    "print(np.sqrt(mean_squared_error(y_test, res.predict(exogd_test))))\n",
    "\n",
    "rmse_results['GLM without SCI'] = np.sqrt(mean_squared_error(y_test, res.predict(exogd_test)))"
   ]
  },
  {
   "cell_type": "code",
   "execution_count": 103,
   "metadata": {},
   "outputs": [
    {
     "data": {
      "text/plain": [
       "'Attempted to run forward selection on GLM'"
      ]
     },
     "execution_count": 103,
     "metadata": {},
     "output_type": "execute_result"
    }
   ],
   "source": [
    "'''Attempted to run forward selection on GLM'''\n",
    "def processSubset(feature_set):\n",
    "    # Fit model on feature_set and calculate RSS\n",
    "    model = sm.GLM(y_train, x_train_demog[list(feature_set)], family=sm.families.Binomial())\n",
    "    regr = model.fit()\n",
    "    RSS = ((regr.predict(x_train_demog[list(feature_set)]) - y_train) ** 2).sum()\n",
    "    return {\"model\":regr, \"RSS\":RSS}\n",
    "\n",
    "def forward(predictors):\n",
    "    # Pull out predictors we still need to process\n",
    "    remaining_predictors = [p for p in x_train_demog.columns if p not in predictors]\n",
    "    results = []\n",
    "    for p in remaining_predictors:\n",
    "        results.append(processSubset(predictors+[p]))\n",
    "    # Wrap everything up in a nice dataframe\n",
    "    models = pd.DataFrame(results)\n",
    "    # Choose the model with the lowest RSS\n",
    "    best_model = models.loc[models['RSS'].argmin()]\n",
    "    print(\"Processed \", models.shape[0], \"models on\", len(predictors)+1, \"predictors.\")\n",
    "    # Return the best model\n",
    "    return best_model"
   ]
  },
  {
   "cell_type": "code",
   "execution_count": 104,
   "metadata": {},
   "outputs": [
    {
     "name": "stdout",
     "output_type": "stream",
     "text": [
      "Processed  10 models on 1 predictors.\n",
      "Processed  9 models on 2 predictors.\n",
      "Processed  8 models on 3 predictors.\n",
      "Processed  7 models on 4 predictors.\n",
      "Processed  6 models on 5 predictors.\n",
      "Processed  5 models on 6 predictors.\n",
      "Processed  4 models on 7 predictors.\n",
      "Processed  3 models on 8 predictors.\n",
      "Processed  2 models on 9 predictors.\n",
      "Processed  1 models on 10 predictors.\n"
     ]
    },
    {
     "data": {
      "text/html": [
       "<div>\n",
       "<style scoped>\n",
       "    .dataframe tbody tr th:only-of-type {\n",
       "        vertical-align: middle;\n",
       "    }\n",
       "\n",
       "    .dataframe tbody tr th {\n",
       "        vertical-align: top;\n",
       "    }\n",
       "\n",
       "    .dataframe thead th {\n",
       "        text-align: right;\n",
       "    }\n",
       "</style>\n",
       "<table border=\"1\" class=\"dataframe\">\n",
       "  <thead>\n",
       "    <tr style=\"text-align: right;\">\n",
       "      <th></th>\n",
       "      <th>RSS</th>\n",
       "      <th>model</th>\n",
       "    </tr>\n",
       "  </thead>\n",
       "  <tbody>\n",
       "    <tr>\n",
       "      <th>1</th>\n",
       "      <td>22.161509</td>\n",
       "      <td>&lt;statsmodels.genmod.generalized_linear_model.G...</td>\n",
       "    </tr>\n",
       "    <tr>\n",
       "      <th>2</th>\n",
       "      <td>21.185066</td>\n",
       "      <td>&lt;statsmodels.genmod.generalized_linear_model.G...</td>\n",
       "    </tr>\n",
       "    <tr>\n",
       "      <th>3</th>\n",
       "      <td>20.240249</td>\n",
       "      <td>&lt;statsmodels.genmod.generalized_linear_model.G...</td>\n",
       "    </tr>\n",
       "    <tr>\n",
       "      <th>4</th>\n",
       "      <td>19.741600</td>\n",
       "      <td>&lt;statsmodels.genmod.generalized_linear_model.G...</td>\n",
       "    </tr>\n",
       "    <tr>\n",
       "      <th>5</th>\n",
       "      <td>19.449962</td>\n",
       "      <td>&lt;statsmodels.genmod.generalized_linear_model.G...</td>\n",
       "    </tr>\n",
       "    <tr>\n",
       "      <th>6</th>\n",
       "      <td>19.038875</td>\n",
       "      <td>&lt;statsmodels.genmod.generalized_linear_model.G...</td>\n",
       "    </tr>\n",
       "    <tr>\n",
       "      <th>7</th>\n",
       "      <td>18.758300</td>\n",
       "      <td>&lt;statsmodels.genmod.generalized_linear_model.G...</td>\n",
       "    </tr>\n",
       "    <tr>\n",
       "      <th>8</th>\n",
       "      <td>18.687328</td>\n",
       "      <td>&lt;statsmodels.genmod.generalized_linear_model.G...</td>\n",
       "    </tr>\n",
       "    <tr>\n",
       "      <th>9</th>\n",
       "      <td>17.410319</td>\n",
       "      <td>&lt;statsmodels.genmod.generalized_linear_model.G...</td>\n",
       "    </tr>\n",
       "    <tr>\n",
       "      <th>10</th>\n",
       "      <td>17.282701</td>\n",
       "      <td>&lt;statsmodels.genmod.generalized_linear_model.G...</td>\n",
       "    </tr>\n",
       "  </tbody>\n",
       "</table>\n",
       "</div>"
      ],
      "text/plain": [
       "          RSS                                              model\n",
       "1   22.161509  <statsmodels.genmod.generalized_linear_model.G...\n",
       "2   21.185066  <statsmodels.genmod.generalized_linear_model.G...\n",
       "3   20.240249  <statsmodels.genmod.generalized_linear_model.G...\n",
       "4   19.741600  <statsmodels.genmod.generalized_linear_model.G...\n",
       "5   19.449962  <statsmodels.genmod.generalized_linear_model.G...\n",
       "6   19.038875  <statsmodels.genmod.generalized_linear_model.G...\n",
       "7   18.758300  <statsmodels.genmod.generalized_linear_model.G...\n",
       "8   18.687328  <statsmodels.genmod.generalized_linear_model.G...\n",
       "9   17.410319  <statsmodels.genmod.generalized_linear_model.G...\n",
       "10  17.282701  <statsmodels.genmod.generalized_linear_model.G..."
      ]
     },
     "execution_count": 104,
     "metadata": {},
     "output_type": "execute_result"
    }
   ],
   "source": [
    "models_GLM = pd.DataFrame(columns=[\"RSS\", \"model\"])\n",
    "predictors = []\n",
    "for i in range(1,len(x_train_demog.columns)+1):\n",
    "    models_GLM.loc[i] = forward(predictors)\n",
    "    predictors = models_GLM.loc[i][\"model\"].model.exog_names  \n",
    "models_GLM"
   ]
  },
  {
   "cell_type": "code",
   "execution_count": 105,
   "metadata": {},
   "outputs": [
    {
     "name": "stdout",
     "output_type": "stream",
     "text": [
      "dict_keys(['med_income2019'])\n",
      "                 Generalized Linear Model Regression Results                  \n",
      "==============================================================================\n",
      "Dep. Variable:          participation   No. Observations:                 2799\n",
      "Model:                            GLM   Df Residuals:                     2797\n",
      "Model Family:                Binomial   Df Model:                            1\n",
      "Link Function:                  logit   Scale:                          1.0000\n",
      "Method:                          IRLS   Log-Likelihood:                -1198.6\n",
      "Date:                Wed, 01 Jun 2022   Deviance:                       179.96\n",
      "Time:                        00:05:03   Pearson chi2:                     95.5\n",
      "No. Iterations:                     5                                         \n",
      "Covariance Type:            nonrobust                                         \n",
      "========================================================================================\n",
      "                           coef    std err          z      P>|z|      [0.025      0.975]\n",
      "----------------------------------------------------------------------------------------\n",
      "const                   -0.3207      0.169     -1.903      0.057      -0.651       0.010\n",
      "med_income2019_added  1.764e-05   3.02e-06      5.851      0.000    1.17e-05    2.36e-05\n",
      "========================================================================================\n",
      "model: 1 RMSE: 0.08165759278046957\n",
      "dict_keys(['med_income2019', '%high'])\n",
      "                 Generalized Linear Model Regression Results                  \n",
      "==============================================================================\n",
      "Dep. Variable:          participation   No. Observations:                 2799\n",
      "Model:                            GLM   Df Residuals:                     2796\n",
      "Model Family:                Binomial   Df Model:                            2\n",
      "Link Function:                  logit   Scale:                          1.0000\n",
      "Method:                          IRLS   Log-Likelihood:                -1198.3\n",
      "Date:                Wed, 01 Jun 2022   Deviance:                       179.38\n",
      "Time:                        00:05:03   Pearson chi2:                     95.1\n",
      "No. Iterations:                     5                                         \n",
      "Covariance Type:            nonrobust                                         \n",
      "========================================================================================\n",
      "                           coef    std err          z      P>|z|      [0.025      0.975]\n",
      "----------------------------------------------------------------------------------------\n",
      "const                   -0.0654      0.368     -0.178      0.859      -0.786       0.655\n",
      "med_income2019_added  1.625e-05    3.5e-06      4.640      0.000    9.39e-06    2.31e-05\n",
      "%high_added             -0.5201      0.666     -0.781      0.435      -1.825       0.784\n",
      "========================================================================================\n",
      "model: 2 RMSE: 0.08097240436702496\n",
      "dict_keys(['med_income2019', '%high', '%AA'])\n",
      "                 Generalized Linear Model Regression Results                  \n",
      "==============================================================================\n",
      "Dep. Variable:          participation   No. Observations:                 2799\n",
      "Model:                            GLM   Df Residuals:                     2795\n",
      "Model Family:                Binomial   Df Model:                            3\n",
      "Link Function:                  logit   Scale:                          1.0000\n",
      "Method:                          IRLS   Log-Likelihood:                -1196.0\n",
      "Date:                Wed, 01 Jun 2022   Deviance:                       174.95\n",
      "Time:                        00:05:03   Pearson chi2:                     91.0\n",
      "No. Iterations:                     5                                         \n",
      "Covariance Type:            nonrobust                                         \n",
      "========================================================================================\n",
      "                           coef    std err          z      P>|z|      [0.025      0.975]\n",
      "----------------------------------------------------------------------------------------\n",
      "const                    0.0069      0.369      0.019      0.985      -0.716       0.730\n",
      "med_income2019_added  1.857e-05   3.67e-06      5.059      0.000    1.14e-05    2.58e-05\n",
      "%high_added             -0.9331      0.693     -1.346      0.178      -2.292       0.426\n",
      "%AA_added               -3.9101      1.807     -2.164      0.030      -7.452      -0.368\n",
      "========================================================================================\n",
      "model: 3 RMSE: 0.07742697007258137\n",
      "dict_keys(['med_income2019', '%high', '%AA', '%bachelorplus'])\n",
      "                 Generalized Linear Model Regression Results                  \n",
      "==============================================================================\n",
      "Dep. Variable:          participation   No. Observations:                 2799\n",
      "Model:                            GLM   Df Residuals:                     2794\n",
      "Model Family:                Binomial   Df Model:                            4\n",
      "Link Function:                  logit   Scale:                          1.0000\n",
      "Method:                          IRLS   Log-Likelihood:                -1194.3\n",
      "Date:                Wed, 01 Jun 2022   Deviance:                       171.41\n",
      "Time:                        00:05:03   Pearson chi2:                     87.5\n",
      "No. Iterations:                     5                                         \n",
      "Covariance Type:            nonrobust                                         \n",
      "========================================================================================\n",
      "                           coef    std err          z      P>|z|      [0.025      0.975]\n",
      "----------------------------------------------------------------------------------------\n",
      "const                   -0.4581      0.444     -1.033      0.302      -1.328       0.411\n",
      "med_income2019_added  1.466e-05   4.22e-06      3.475      0.001    6.39e-06    2.29e-05\n",
      "%high_added              0.1006      0.884      0.114      0.909      -1.632       1.833\n",
      "%AA_added               -4.3830      1.824     -2.403      0.016      -7.958      -0.808\n",
      "%bachelorplus_added      1.5412      0.821      1.877      0.061      -0.068       3.151\n",
      "========================================================================================\n",
      "model: 4 RMSE: 0.07632864038411903\n",
      "dict_keys(['med_income2019', '%high', '%AA', '%bachelorplus', '%IA'])\n",
      "                 Generalized Linear Model Regression Results                  \n",
      "==============================================================================\n",
      "Dep. Variable:          participation   No. Observations:                 2799\n",
      "Model:                            GLM   Df Residuals:                     2793\n",
      "Model Family:                Binomial   Df Model:                            5\n",
      "Link Function:                  logit   Scale:                          1.0000\n",
      "Method:                          IRLS   Log-Likelihood:                -1193.8\n",
      "Date:                Wed, 01 Jun 2022   Deviance:                       170.52\n",
      "Time:                        00:05:03   Pearson chi2:                     86.6\n",
      "No. Iterations:                     5                                         \n",
      "Covariance Type:            nonrobust                                         \n",
      "========================================================================================\n",
      "                           coef    std err          z      P>|z|      [0.025      0.975]\n",
      "----------------------------------------------------------------------------------------\n",
      "const                   -0.3835      0.451     -0.851      0.395      -1.267       0.500\n",
      "med_income2019_added  1.423e-05   4.24e-06      3.357      0.001    5.92e-06    2.25e-05\n",
      "%high_added              0.0092      0.890      0.010      0.992      -1.735       1.753\n",
      "%AA_added               -4.3993      1.823     -2.413      0.016      -7.972      -0.827\n",
      "%bachelorplus_added      1.5051      0.823      1.830      0.067      -0.107       3.117\n",
      "%IA_added               -0.5484      0.579     -0.947      0.343      -1.683       0.586\n",
      "========================================================================================\n",
      "model: 5 RMSE: 0.07593013684586714\n",
      "dict_keys(['med_income2019', '%high', '%AA', '%bachelorplus', '%IA', '%somecollege'])\n",
      "                 Generalized Linear Model Regression Results                  \n",
      "==============================================================================\n",
      "Dep. Variable:          participation   No. Observations:                 2799\n",
      "Model:                            GLM   Df Residuals:                     2792\n",
      "Model Family:                Binomial   Df Model:                            6\n",
      "Link Function:                  logit   Scale:                          1.0000\n",
      "Method:                          IRLS   Log-Likelihood:                -1189.7\n",
      "Date:                Wed, 01 Jun 2022   Deviance:                       162.40\n",
      "Time:                        00:05:03   Pearson chi2:                     79.2\n",
      "No. Iterations:                     4                                         \n",
      "Covariance Type:            nonrobust                                         \n",
      "========================================================================================\n",
      "                           coef    std err          z      P>|z|      [0.025      0.975]\n",
      "----------------------------------------------------------------------------------------\n",
      "const                   -1.7741      0.660     -2.687      0.007      -3.068      -0.480\n",
      "med_income2019_added  1.118e-05   4.35e-06      2.572      0.010    2.66e-06    1.97e-05\n",
      "%high_added              1.4980      1.028      1.457      0.145      -0.518       3.514\n",
      "%AA_added               -2.9429      1.879     -1.566      0.117      -6.625       0.739\n",
      "%bachelorplus_added      2.4500      0.882      2.779      0.005       0.722       4.178\n",
      "%IA_added               -0.7272      0.584     -1.245      0.213      -1.872       0.417\n",
      "%somecollege_added       2.6839      0.932      2.879      0.004       0.857       4.511\n",
      "========================================================================================\n",
      "model: 6 RMSE: 0.07229246789493138\n",
      "dict_keys(['med_income2019', '%high', '%AA', '%bachelorplus', '%IA', '%somecollege', '%TOT_F'])\n",
      "                 Generalized Linear Model Regression Results                  \n",
      "==============================================================================\n",
      "Dep. Variable:          participation   No. Observations:                 2799\n",
      "Model:                            GLM   Df Residuals:                     2791\n",
      "Model Family:                Binomial   Df Model:                            7\n",
      "Link Function:                  logit   Scale:                          1.0000\n",
      "Method:                          IRLS   Log-Likelihood:                -1188.4\n",
      "Date:                Wed, 01 Jun 2022   Deviance:                       159.66\n",
      "Time:                        00:05:03   Pearson chi2:                     76.0\n",
      "No. Iterations:                     4                                         \n",
      "Covariance Type:            nonrobust                                         \n",
      "========================================================================================\n",
      "                           coef    std err          z      P>|z|      [0.025      0.975]\n",
      "----------------------------------------------------------------------------------------\n",
      "const                   -3.1625      1.090     -2.902      0.004      -5.298      -1.027\n",
      "med_income2019_added  1.225e-05    4.4e-06      2.787      0.005    3.63e-06    2.09e-05\n",
      "%high_added              1.4367      1.029      1.396      0.163      -0.580       3.454\n",
      "%AA_added               -2.9912      1.878     -1.593      0.111      -6.671       0.689\n",
      "%bachelorplus_added      2.1668      0.897      2.415      0.016       0.408       3.925\n",
      "%IA_added               -0.7012      0.584     -1.202      0.230      -1.845       0.443\n",
      "%somecollege_added       2.6168      0.932      2.806      0.005       0.789       4.444\n",
      "%TOT_F_added             2.8709      1.791      1.603      0.109      -0.639       6.381\n",
      "========================================================================================\n",
      "model: 7 RMSE: 0.07124795123826516\n",
      "dict_keys(['med_income2019', '%high', '%AA', '%bachelorplus', '%IA', '%somecollege', '%TOT_F', '%BA'])\n",
      "                 Generalized Linear Model Regression Results                  \n",
      "==============================================================================\n",
      "Dep. Variable:          participation   No. Observations:                 2799\n",
      "Model:                            GLM   Df Residuals:                     2790\n",
      "Model Family:                Binomial   Df Model:                            8\n",
      "Link Function:                  logit   Scale:                          1.0000\n",
      "Method:                          IRLS   Log-Likelihood:                -1188.3\n",
      "Date:                Wed, 01 Jun 2022   Deviance:                       159.55\n",
      "Time:                        00:05:03   Pearson chi2:                     75.8\n",
      "No. Iterations:                     4                                         \n",
      "Covariance Type:            nonrobust                                         \n",
      "========================================================================================\n",
      "                           coef    std err          z      P>|z|      [0.025      0.975]\n",
      "----------------------------------------------------------------------------------------\n",
      "const                   -3.1223      1.096     -2.848      0.004      -5.271      -0.974\n",
      "med_income2019_added  1.188e-05   4.53e-06      2.624      0.009    3.01e-06    2.08e-05\n",
      "%high_added              1.3653      1.051      1.299      0.194      -0.695       3.426\n",
      "%AA_added               -2.9462      1.883     -1.565      0.118      -6.637       0.744\n",
      "%bachelorplus_added      2.1362      0.902      2.368      0.018       0.368       3.904\n",
      "%IA_added               -0.7295      0.590     -1.237      0.216      -1.885       0.426\n",
      "%somecollege_added       2.5383      0.962      2.640      0.008       0.654       4.423\n",
      "%TOT_F_added             2.9606      1.811      1.635      0.102      -0.589       6.510\n",
      "%BA_added               -0.1000      0.300     -0.333      0.739      -0.688       0.488\n",
      "========================================================================================\n",
      "model: 8 RMSE: 0.07119295471271889\n",
      "dict_keys(['med_income2019', '%high', '%AA', '%bachelorplus', '%IA', '%somecollege', '%TOT_F', '%BA', '%WA'])\n",
      "                 Generalized Linear Model Regression Results                  \n",
      "==============================================================================\n",
      "Dep. Variable:          participation   No. Observations:                 2799\n",
      "Model:                            GLM   Df Residuals:                     2789\n",
      "Model Family:                Binomial   Df Model:                            9\n",
      "Link Function:                  logit   Scale:                          1.0000\n",
      "Method:                          IRLS   Log-Likelihood:                -1187.9\n",
      "Date:                Wed, 01 Jun 2022   Deviance:                       158.71\n",
      "Time:                        00:05:03   Pearson chi2:                     75.0\n",
      "No. Iterations:                     4                                         \n",
      "Covariance Type:            nonrobust                                         \n",
      "========================================================================================\n",
      "                           coef    std err          z      P>|z|      [0.025      0.975]\n",
      "----------------------------------------------------------------------------------------\n",
      "const                   -5.6775      2.999     -1.893      0.058     -11.556       0.201\n",
      "med_income2019_added  1.134e-05   4.56e-06      2.486      0.013     2.4e-06    2.03e-05\n",
      "%high_added              1.4411      1.055      1.366      0.172      -0.627       3.510\n",
      "%AA_added                0.7355      4.450      0.165      0.869      -7.986       9.457\n",
      "%bachelorplus_added      2.1586      0.903      2.391      0.017       0.389       3.928\n",
      "%IA_added                1.9576      2.995      0.654      0.513      -3.913       7.828\n",
      "%somecollege_added       2.7236      0.983      2.770      0.006       0.797       4.650\n",
      "%TOT_F_added             2.9496      1.810      1.629      0.103      -0.599       6.498\n",
      "%BA_added                2.4215      2.771      0.874      0.382      -3.010       7.853\n",
      "%WA_added                2.5415      2.777      0.915      0.360      -2.901       7.984\n",
      "========================================================================================\n",
      "model: 9 RMSE: 0.07049809825109674\n",
      "dict_keys(['med_income2019', '%high', '%AA', '%bachelorplus', '%IA', '%somecollege', '%TOT_F', '%BA', '%WA', '%NA'])\n"
     ]
    },
    {
     "name": "stderr",
     "output_type": "stream",
     "text": [
      "/Users/emilyding/opt/anaconda3/lib/python3.9/site-packages/statsmodels/tsa/tsatools.py:142: FutureWarning: In a future version of pandas all arguments of concat except for the argument 'objs' will be keyword-only\n",
      "  x = pd.concat(x[::order], 1)\n",
      "/Users/emilyding/opt/anaconda3/lib/python3.9/site-packages/statsmodels/tsa/tsatools.py:142: FutureWarning: In a future version of pandas all arguments of concat except for the argument 'objs' will be keyword-only\n",
      "  x = pd.concat(x[::order], 1)\n",
      "/Users/emilyding/opt/anaconda3/lib/python3.9/site-packages/statsmodels/tsa/tsatools.py:142: FutureWarning: In a future version of pandas all arguments of concat except for the argument 'objs' will be keyword-only\n",
      "  x = pd.concat(x[::order], 1)\n",
      "/Users/emilyding/opt/anaconda3/lib/python3.9/site-packages/statsmodels/tsa/tsatools.py:142: FutureWarning: In a future version of pandas all arguments of concat except for the argument 'objs' will be keyword-only\n",
      "  x = pd.concat(x[::order], 1)\n",
      "/Users/emilyding/opt/anaconda3/lib/python3.9/site-packages/statsmodels/tsa/tsatools.py:142: FutureWarning: In a future version of pandas all arguments of concat except for the argument 'objs' will be keyword-only\n",
      "  x = pd.concat(x[::order], 1)\n",
      "/Users/emilyding/opt/anaconda3/lib/python3.9/site-packages/statsmodels/tsa/tsatools.py:142: FutureWarning: In a future version of pandas all arguments of concat except for the argument 'objs' will be keyword-only\n",
      "  x = pd.concat(x[::order], 1)\n",
      "/Users/emilyding/opt/anaconda3/lib/python3.9/site-packages/statsmodels/tsa/tsatools.py:142: FutureWarning: In a future version of pandas all arguments of concat except for the argument 'objs' will be keyword-only\n",
      "  x = pd.concat(x[::order], 1)\n",
      "/Users/emilyding/opt/anaconda3/lib/python3.9/site-packages/statsmodels/tsa/tsatools.py:142: FutureWarning: In a future version of pandas all arguments of concat except for the argument 'objs' will be keyword-only\n",
      "  x = pd.concat(x[::order], 1)\n",
      "/Users/emilyding/opt/anaconda3/lib/python3.9/site-packages/statsmodels/tsa/tsatools.py:142: FutureWarning: In a future version of pandas all arguments of concat except for the argument 'objs' will be keyword-only\n",
      "  x = pd.concat(x[::order], 1)\n"
     ]
    },
    {
     "name": "stdout",
     "output_type": "stream",
     "text": [
      "                 Generalized Linear Model Regression Results                  \n",
      "==============================================================================\n",
      "Dep. Variable:          participation   No. Observations:                 2799\n",
      "Model:                            GLM   Df Residuals:                     2788\n",
      "Model Family:                Binomial   Df Model:                           10\n",
      "Link Function:                  logit   Scale:                          1.0000\n",
      "Method:                          IRLS   Log-Likelihood:                -1187.5\n",
      "Date:                Wed, 01 Jun 2022   Deviance:                       157.93\n",
      "Time:                        00:05:03   Pearson chi2:                     74.2\n",
      "No. Iterations:                     4                                         \n",
      "Covariance Type:            nonrobust                                         \n",
      "========================================================================================\n",
      "                           coef    std err          z      P>|z|      [0.025      0.975]\n",
      "----------------------------------------------------------------------------------------\n",
      "const                   -8.3983      4.280     -1.962      0.050     -16.787      -0.010\n",
      "med_income2019_added  1.131e-05   4.56e-06      2.480      0.013    2.37e-06    2.03e-05\n",
      "%high_added              1.4497      1.056      1.373      0.170      -0.620       3.520\n",
      "%AA_added                3.0593      5.138      0.595      0.552      -7.010      13.129\n",
      "%bachelorplus_added      2.2819      0.914      2.496      0.013       0.490       4.073\n",
      "%IA_added                4.8689      4.432      1.099      0.272      -3.818      13.556\n",
      "%somecollege_added       2.7320      0.984      2.777      0.005       0.804       4.660\n",
      "%TOT_F_added             2.9577      1.811      1.633      0.102      -0.591       6.507\n",
      "%BA_added                5.1573      4.135      1.247      0.212      -2.946      13.261\n",
      "%WA_added                5.2737      4.135      1.275      0.202      -2.831      13.379\n",
      "%NA_added               13.9557     15.771      0.885      0.376     -16.954      44.866\n",
      "========================================================================================\n",
      "model: 10 RMSE: 0.07056290805451344\n"
     ]
    },
    {
     "name": "stderr",
     "output_type": "stream",
     "text": [
      "/Users/emilyding/opt/anaconda3/lib/python3.9/site-packages/statsmodels/tsa/tsatools.py:142: FutureWarning: In a future version of pandas all arguments of concat except for the argument 'objs' will be keyword-only\n",
      "  x = pd.concat(x[::order], 1)\n"
     ]
    }
   ],
   "source": [
    "for i in range(1,len(x_train_demog.columns)+1):\n",
    "\n",
    "    A = dict(models_GLM.loc[i, \"model\"].params).keys()\n",
    "    print(A)\n",
    "\n",
    "    model_train_X = pd.DataFrame()\n",
    "    model_test_X = pd.DataFrame()\n",
    "\n",
    "            \n",
    "\n",
    "    for k in A:\n",
    "        model_train_X[str(k)+\"_added\"] = x_train_demog[k]\n",
    "        model_test_X[str(k)+\"_added\"] = x_test_demog[k]\n",
    "        \n",
    "    model_train_X = sm.add_constant(model_train_X)\n",
    "    model_test_X = sm.add_constant (model_test_X)\n",
    "    model_stepwise = sm.GLM(y_train, model_train_X, family=sm.families.Binomial())\n",
    "    res = model_stepwise.fit()\n",
    "    print(res.summary())\n",
    "    print(\"model:\", i, \"RMSE:\", np.sqrt(mean_squared_error(y_test, res.predict(model_test_X))))\n",
    "\n",
    "#rmse_results[\"Forward Stepwise w/ 7 predictors\"] = np.sqrt(mean_squared_error(y_test, model_stepwise.predict(model_test_X)))"
   ]
  },
  {
   "cell_type": "markdown",
   "metadata": {},
   "source": [
    "### XGBoost"
   ]
  },
  {
   "cell_type": "code",
   "execution_count": 125,
   "metadata": {},
   "outputs": [
    {
     "data": {
      "text/plain": [
       "'Use XGBoost model '"
      ]
     },
     "execution_count": 125,
     "metadata": {},
     "output_type": "execute_result"
    },
    {
     "name": "stderr",
     "output_type": "stream",
     "text": [
      "/var/folders/np/wd22bbys3879bs9hw8g47xm00000gn/T/ipykernel_36604/3578819861.py:4: SettingWithCopyWarning: \n",
      "A value is trying to be set on a copy of a slice from a DataFrame.\n",
      "Try using .loc[row_indexer,col_indexer] = value instead\n",
      "\n",
      "See the caveats in the documentation: https://pandas.pydata.org/pandas-docs/stable/user_guide/indexing.html#returning-a-view-versus-a-copy\n",
      "  x_train['%under50'] = x_train['%<50']\n",
      "/var/folders/np/wd22bbys3879bs9hw8g47xm00000gn/T/ipykernel_36604/3578819861.py:5: SettingWithCopyWarning: \n",
      "A value is trying to be set on a copy of a slice from a DataFrame.\n",
      "Try using .loc[row_indexer,col_indexer] = value instead\n",
      "\n",
      "See the caveats in the documentation: https://pandas.pydata.org/pandas-docs/stable/user_guide/indexing.html#returning-a-view-versus-a-copy\n",
      "  x_test['%under50'] = x_test['%<50']\n"
     ]
    }
   ],
   "source": [
    "'''Use XGBoost model '''\n",
    "\n",
    "#needed to convert name to not use '<' symbol\n",
    "x_train['%under50'] = x_train['%<50']\n",
    "x_test['%under50'] = x_test['%<50']\n",
    "\n",
    "x_train_demog = x_train[['%under50', '%100-200' ,'%200+', '%WA','%BA','%IA','%AA','%NA', '%high','%somecollege','%bachelorplus',\n",
    "                       '%TOT_F', 'med_income2019' ]]\n",
    "\n",
    "                       \n",
    "x_test_demog= x_test[[ '%under50', '%100-200', '%200+', '%WA','%BA','%IA','%AA','%NA', '%high','%somecollege','%bachelorplus',\n",
    "                       '%TOT_F', 'med_income2019' ]]"
   ]
  },
  {
   "cell_type": "code",
   "execution_count": 126,
   "metadata": {},
   "outputs": [
    {
     "data": {
      "text/plain": [
       "XGBRegressor(base_score=0.5, booster='gbtree', callbacks=None,\n",
       "             colsample_bylevel=1, colsample_bynode=1, colsample_bytree=1,\n",
       "             early_stopping_rounds=None, enable_categorical=False,\n",
       "             eval_metric=None, gamma=0, gpu_id=-1, grow_policy='depthwise',\n",
       "             importance_type=None, interaction_constraints='',\n",
       "             learning_rate=0.300000012, max_bin=256, max_cat_to_onehot=4,\n",
       "             max_delta_step=0, max_depth=6, max_leaves=0, min_child_weight=1,\n",
       "             missing=nan, monotone_constraints='()', n_estimators=100, n_jobs=0,\n",
       "             num_parallel_tree=1, predictor='auto', random_state=0, reg_alpha=0,\n",
       "             reg_lambda=1, ...)"
      ]
     },
     "execution_count": 126,
     "metadata": {},
     "output_type": "execute_result"
    },
    {
     "name": "stdout",
     "output_type": "stream",
     "text": [
      "0.003659560091937748\n"
     ]
    },
    {
     "data": {
      "text/plain": [
       "<AxesSubplot:title={'center':'Feature importance'}, xlabel='F score', ylabel='Features'>"
      ]
     },
     "execution_count": 126,
     "metadata": {},
     "output_type": "execute_result"
    },
    {
     "data": {
      "image/png": "[encoded data removed]",
      "text/plain": [
       "<Figure size 720x432 with 1 Axes>"
      ]
     },
     "metadata": {
      "needs_background": "light"
     },
     "output_type": "display_data"
    }
   ],
   "source": [
    "\n",
    "model = XGBRegressor()\n",
    "model.fit(x_train_demog, y_train)\n",
    "print(mean_squared_error(y_test, model.predict(x_test_demog)))\n",
    "\n",
    "import matplotlib.pylab as plt\n",
    "from matplotlib import pyplot\n",
    "from xgboost import plot_importance\n",
    "plot_importance(model) \n",
    "plt.show()\n"
   ]
  },
  {
   "cell_type": "code",
   "execution_count": 117,
   "metadata": {},
   "outputs": [
    {
     "data": {
      "text/plain": [
       "RandomizedSearchCV(cv=2,\n",
       "                   estimator=XGBRegressor(base_score=None, booster=None,\n",
       "                                          callbacks=None,\n",
       "                                          colsample_bylevel=None,\n",
       "                                          colsample_bynode=None,\n",
       "                                          colsample_bytree=None,\n",
       "                                          early_stopping_rounds=None,\n",
       "                                          enable_categorical=False,\n",
       "                                          eval_metric=None, gamma=None,\n",
       "                                          gpu_id=None, grow_policy=None,\n",
       "                                          importance_type=None,\n",
       "                                          interaction_constraints=None,\n",
       "                                          learning_rate=None, max_bin=None,\n",
       "                                          m...\n",
       "                   param_distributions={'eta': <scipy.stats._distn_infrastructure.rv_frozen object at 0x7fb50f76da00>,\n",
       "                                        'max_depth': <scipy.stats._distn_infrastructure.rv_frozen object at 0x7fb50fd0f1c0>,\n",
       "                                        'n_estimators': <scipy.stats._distn_infrastructure.rv_frozen object at 0x7fb50fc0bd90>,\n",
       "                                        'subsample': <scipy.stats._distn_infrastructure.rv_frozen object at 0x7fb50fbeeb80>,\n",
       "                                        'tree_method': ['auto', 'exact',\n",
       "                                                        'approx', 'hist']})"
      ]
     },
     "execution_count": 117,
     "metadata": {},
     "output_type": "execute_result"
    },
    {
     "name": "stdout",
     "output_type": "stream",
     "text": [
      " Results from Random Search \n",
      "\n",
      " The best estimator across ALL searched params:\n",
      " XGBRegressor(base_score=0.5, booster='gbtree', callbacks=None,\n",
      "             colsample_bylevel=1, colsample_bynode=1, colsample_bytree=1,\n",
      "             early_stopping_rounds=None, enable_categorical=False,\n",
      "             eta=0.011280655395690843, eval_metric=None, gamma=0, gpu_id=-1,\n",
      "             grow_policy='depthwise', importance_type=None,\n",
      "             interaction_constraints='', learning_rate=0.0112806559,\n",
      "             max_bin=256, max_cat_to_onehot=4, max_delta_step=0, max_depth=5,\n",
      "             max_leaves=0, min_child_weight=1, missing=nan,\n",
      "             monotone_constraints='()', n_estimators=853, n_jobs=0,\n",
      "             num_parallel_tree=1, predictor='auto', random_state=0, reg_alpha=0, ...)\n",
      "\n",
      " The best score across ALL searched params:\n",
      " 0.5624237092814839\n",
      "\n",
      " The best parameters across ALL searched params:\n",
      " {'eta': 0.011280655395690843, 'max_depth': 5, 'n_estimators': 853, 'subsample': 0.4428923644744488, 'tree_method': 'hist'}\n"
     ]
    }
   ],
   "source": [
    "\n",
    "\n",
    "model = XGBRegressor()\n",
    "parameters = {'tree_method' : ['auto', 'exact', 'approx', 'hist' ],\n",
    "                'eta': sp_randFloat(0.01, 0.3),\n",
    "                  'subsample'    : sp_randFloat(),\n",
    "                  'n_estimators' : sp_randInt(100, 1000),\n",
    "                  'max_depth'    : sp_randInt(4, 10)\n",
    "                 }\n",
    "\n",
    "randm_src = RandomizedSearchCV(estimator=model, param_distributions = parameters,\n",
    "                               cv = 2, n_iter = 200, n_jobs=-1)\n",
    "randm_src.fit(x_train_demog, y_train)\n",
    "\n",
    "print(\" Results from Random Search \" )\n",
    "print(\"\\n The best estimator across ALL searched params:\\n\", randm_src.best_estimator_)\n",
    "print(\"\\n The best score across ALL searched params:\\n\", randm_src.best_score_)\n",
    "print(\"\\n The best parameters across ALL searched params:\\n\", randm_src.best_params_)"
   ]
  },
  {
   "cell_type": "code",
   "execution_count": 118,
   "metadata": {},
   "outputs": [
    {
     "data": {
      "text/plain": [
       "XGBRegressor(base_score=0.5, booster='gbtree', callbacks=None,\n",
       "             colsample_bylevel=1, colsample_bynode=1, colsample_bytree=1,\n",
       "             early_stopping_rounds=None, enable_categorical=False,\n",
       "             eta=0.011280655395690843, eval_metric=None, gamma=0, gpu_id=-1,\n",
       "             grow_policy='depthwise', importance_type=None,\n",
       "             interaction_constraints='', learning_rate=0.0112806559,\n",
       "             max_bin=256, max_cat_to_onehot=4, max_delta_step=0, max_depth=5,\n",
       "             max_leaves=0, min_child_weight=1, missing=nan,\n",
       "             monotone_constraints='()', n_estimators=853, n_jobs=0,\n",
       "             num_parallel_tree=1, predictor='auto', random_state=0, reg_alpha=0, ...)"
      ]
     },
     "execution_count": 118,
     "metadata": {},
     "output_type": "execute_result"
    },
    {
     "name": "stdout",
     "output_type": "stream",
     "text": [
      "0.055750325457463855\n"
     ]
    },
    {
     "data": {
      "text/plain": [
       "<AxesSubplot:title={'center':'Feature importance'}, xlabel='F score', ylabel='Features'>"
      ]
     },
     "execution_count": 118,
     "metadata": {},
     "output_type": "execute_result"
    },
    {
     "data": {
      "image/png": "[encoded data removed]",
      "text/plain": [
       "<Figure size 720x432 with 1 Axes>"
      ]
     },
     "metadata": {
      "needs_background": "light"
     },
     "output_type": "display_data"
    }
   ],
   "source": [
    "from xgboost import XGBRegressor\n",
    "\n",
    "model = XGBRegressor(eta = 0.011280655395690843, max_depth = 5, n_estimators= 853, subsample = 0.4428923644744488, tree_method = 'hist')\n",
    "model.fit(x_train_demog, y_train)\n",
    "print(np.sqrt(mean_squared_error(y_test, model.predict(x_test_demog))))\n",
    "rmse_results['tuned XGBoost'] = np.sqrt(mean_squared_error(y_test, model.predict(x_test_demog)))\n",
    "\n",
    "import matplotlib.pylab as plt\n",
    "from matplotlib import pyplot\n",
    "from xgboost import plot_importance\n",
    "plot_importance(model) \n",
    "plt.show()"
   ]
  },
  {
   "cell_type": "code",
   "execution_count": 115,
   "metadata": {},
   "outputs": [
    {
     "data": {
      "text/plain": [
       "RandomizedSearchCV(cv=2,\n",
       "                   estimator=XGBRegressor(base_score=None, booster=None,\n",
       "                                          callbacks=None,\n",
       "                                          colsample_bylevel=None,\n",
       "                                          colsample_bynode=None,\n",
       "                                          colsample_bytree=None,\n",
       "                                          early_stopping_rounds=None,\n",
       "                                          enable_categorical=False,\n",
       "                                          eval_metric=None, gamma=None,\n",
       "                                          gpu_id=None, grow_policy=None,\n",
       "                                          importance_type=None,\n",
       "                                          interaction_constraints=None,\n",
       "                                          learning_rate=None, max_bin=None,\n",
       "                                          m...\n",
       "                   param_distributions={'eta': <scipy.stats._distn_infrastructure.rv_frozen object at 0x7fb52278eb20>,\n",
       "                                        'max_depth': <scipy.stats._distn_infrastructure.rv_frozen object at 0x7fb50f774160>,\n",
       "                                        'n_estimators': <scipy.stats._distn_infrastructure.rv_frozen object at 0x7fb52b54e100>,\n",
       "                                        'subsample': <scipy.stats._distn_infrastructure.rv_frozen object at 0x7fb50ed3d0d0>,\n",
       "                                        'tree_method': ['auto', 'exact',\n",
       "                                                        'approx', 'hist']})"
      ]
     },
     "execution_count": 115,
     "metadata": {},
     "output_type": "execute_result"
    },
    {
     "name": "stdout",
     "output_type": "stream",
     "text": [
      " Results from Random Search \n",
      "\n",
      " The best estimator across ALL searched params:\n",
      " XGBRegressor(base_score=0.5, booster='gbtree', callbacks=None,\n",
      "             colsample_bylevel=1, colsample_bynode=1, colsample_bytree=1,\n",
      "             early_stopping_rounds=None, enable_categorical=False,\n",
      "             eta=0.012825559516538222, eval_metric=None, gamma=0, gpu_id=-1,\n",
      "             grow_policy='depthwise', importance_type=None,\n",
      "             interaction_constraints='', learning_rate=0.0128255598,\n",
      "             max_bin=256, max_cat_to_onehot=4, max_delta_step=0, max_depth=5,\n",
      "             max_leaves=0, min_child_weight=1, missing=nan,\n",
      "             monotone_constraints='()', n_estimators=730, n_jobs=0,\n",
      "             num_parallel_tree=1, predictor='auto', random_state=0, reg_alpha=0, ...)\n",
      "\n",
      " The best score across ALL searched params:\n",
      " 0.5667847181796656\n",
      "\n",
      " The best parameters across ALL searched params:\n",
      " {'eta': 0.012825559516538222, 'max_depth': 5, 'n_estimators': 730, 'subsample': 0.4707177440848752, 'tree_method': 'hist'}\n"
     ]
    }
   ],
   "source": [
    "x_train_demog = x_train[[ '%WA','%BA','%IA','%AA','%NA', '%high','%somecollege','%bachelorplus',\n",
    "                       '%TOT_F', 'med_income2019' ]]\n",
    "\n",
    "                       \n",
    "x_test_demog= x_test[[ '%WA','%BA','%IA','%AA','%NA', '%high','%somecollege','%bachelorplus',\n",
    "                       '%TOT_F', 'med_income2019' ]]\n",
    "\n",
    "model = XGBRegressor()\n",
    "parameters = {'tree_method' : ['auto', 'exact', 'approx', 'hist' ],\n",
    "                'eta': sp_randFloat(0.01, 0.3),\n",
    "                  'subsample'    : sp_randFloat(),\n",
    "                  'n_estimators' : sp_randInt(100, 1000),\n",
    "                  'max_depth'    : sp_randInt(4, 10)\n",
    "                 }\n",
    "\n",
    "randm_src = RandomizedSearchCV(estimator=model, param_distributions = parameters,\n",
    "                               cv = 2, n_iter = 400, n_jobs=-1)\n",
    "randm_src.fit(x_train_demog, y_train)\n",
    "\n",
    "print(\" Results from Random Search \" )\n",
    "print(\"\\n The best estimator across ALL searched params:\\n\", randm_src.best_estimator_)\n",
    "print(\"\\n The best score across ALL searched params:\\n\", randm_src.best_score_)\n",
    "print(\"\\n The best parameters across ALL searched params:\\n\", randm_src.best_params_)\n"
   ]
  },
  {
   "cell_type": "code",
   "execution_count": 116,
   "metadata": {},
   "outputs": [
    {
     "data": {
      "text/plain": [
       "XGBRegressor(base_score=0.5, booster='gbtree', callbacks=None,\n",
       "             colsample_bylevel=1, colsample_bynode=1, colsample_bytree=1,\n",
       "             early_stopping_rounds=None, enable_categorical=False,\n",
       "             eta=0.012825559516538222, eval_metric=None, gamma=0, gpu_id=-1,\n",
       "             grow_policy='depthwise', importance_type=None,\n",
       "             interaction_constraints='', learning_rate=0.0128255598,\n",
       "             max_bin=256, max_cat_to_onehot=4, max_delta_step=0, max_depth=5,\n",
       "             max_leaves=0, min_child_weight=1, missing=nan,\n",
       "             monotone_constraints='()', n_estimators=730, n_jobs=0,\n",
       "             num_parallel_tree=1, predictor='auto', random_state=0, reg_alpha=0, ...)"
      ]
     },
     "execution_count": 116,
     "metadata": {},
     "output_type": "execute_result"
    },
    {
     "name": "stdout",
     "output_type": "stream",
     "text": [
      "0.05645178476638168\n"
     ]
    },
    {
     "data": {
      "text/plain": [
       "<AxesSubplot:title={'center':'Feature importance'}, xlabel='F score', ylabel='Features'>"
      ]
     },
     "execution_count": 116,
     "metadata": {},
     "output_type": "execute_result"
    },
    {
     "data": {
      "image/png": "[encoded data removed]",
      "text/plain": [
       "<Figure size 720x432 with 1 Axes>"
      ]
     },
     "metadata": {
      "needs_background": "light"
     },
     "output_type": "display_data"
    }
   ],
   "source": [
    "model = XGBRegressor(eta = 0.012825559516538222, max_depth = 5, n_estimators = 730, subsample = 0.4707177440848752, tree_method = 'hist')\n",
    "model.fit(x_train_demog, y_train)\n",
    "print(np.sqrt(mean_squared_error(y_test, model.predict(x_test_demog))))\n",
    "rmse_results['tuned XGBoost without SCI'] = np.sqrt(mean_squared_error(y_test, model.predict(x_test_demog)))\n",
    "\n",
    "import matplotlib.pylab as plt\n",
    "from matplotlib import pyplot\n",
    "from xgboost import plot_importance\n",
    "plot_importance(model) \n",
    "plt.show()"
   ]
  },
  {
   "cell_type": "code",
   "execution_count": 123,
   "metadata": {},
   "outputs": [
    {
     "data": {
      "text/plain": [
       "{'OLS w/ 3 SCI buckets': 0.09493309653983951,\n",
       " 'OLS with 2 distance buckets': 0.09490857101592567,\n",
       " 'OLS with all demog predictors': 0.06854140161179204,\n",
       " 'Forward Stepwise w/ 8 predictors': 0.06996915351642546,\n",
       " 'Forward Stepwise w/ 7 predictors without SCI': 0.07080617020376986,\n",
       " 'Lasso Regression': 0.07080617020376986,\n",
       " 'GLM': 0.06902116966029863,\n",
       " 'GLM without SCI': 0.07056290805588866,\n",
       " 'tuned XGBoost': 0.055750325457463855,\n",
       " 'tuned XGBoost without SCI': 0.05645178476638168}"
      ]
     },
     "execution_count": 123,
     "metadata": {},
     "output_type": "execute_result"
    }
   ],
   "source": [
    "rmse_results"
   ]
  }
 ],
 "metadata": {
  "interpreter": {
   "hash": "f1542cf2de9b2d7ad5fc175f3ea5eb35dcd65e1546a4933e0fb459b7840ae09b"
  },
  "kernelspec": {
   "display_name": "Python 3.9.7 ('base')",
   "language": "python",
   "name": "python3"
  },
  "language_info": {
   "codemirror_mode": {
    "name": "ipython",
    "version": 3
   },
   "file_extension": ".py",
   "mimetype": "text/x-python",
   "name": "python",
   "nbconvert_exporter": "python",
   "pygments_lexer": "ipython3",
   "version": "3.9.7"
  }
 },
 "nbformat": 4,
 "nbformat_minor": 1
}
